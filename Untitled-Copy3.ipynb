{
 "cells": [
  {
   "cell_type": "code",
   "execution_count": 1,
   "id": "329463b4",
   "metadata": {},
   "outputs": [],
   "source": [
    "import pandas as pd\n",
    "from matplotlib.pylab import rcParams\n",
    "rcParams['figure.figsize'] = 10,6"
   ]
  },
  {
   "cell_type": "code",
   "execution_count": 2,
   "id": "01ce2498",
   "metadata": {},
   "outputs": [
    {
     "data": {
      "text/html": [
       "<div>\n",
       "<style scoped>\n",
       "    .dataframe tbody tr th:only-of-type {\n",
       "        vertical-align: middle;\n",
       "    }\n",
       "\n",
       "    .dataframe tbody tr th {\n",
       "        vertical-align: top;\n",
       "    }\n",
       "\n",
       "    .dataframe thead th {\n",
       "        text-align: right;\n",
       "    }\n",
       "</style>\n",
       "<table border=\"1\" class=\"dataframe\">\n",
       "  <thead>\n",
       "    <tr style=\"text-align: right;\">\n",
       "      <th></th>\n",
       "      <th>Tanggal</th>\n",
       "      <th>Jumlah Cup yang Terjual</th>\n",
       "      <th>Penjualan Kopi Susu</th>\n",
       "    </tr>\n",
       "  </thead>\n",
       "  <tbody>\n",
       "    <tr>\n",
       "      <th>0</th>\n",
       "      <td>2021-05-01</td>\n",
       "      <td>8</td>\n",
       "      <td>120000</td>\n",
       "    </tr>\n",
       "    <tr>\n",
       "      <th>1</th>\n",
       "      <td>2021-05-02</td>\n",
       "      <td>7</td>\n",
       "      <td>105000</td>\n",
       "    </tr>\n",
       "    <tr>\n",
       "      <th>2</th>\n",
       "      <td>2021-05-03</td>\n",
       "      <td>5</td>\n",
       "      <td>75000</td>\n",
       "    </tr>\n",
       "    <tr>\n",
       "      <th>3</th>\n",
       "      <td>2021-05-04</td>\n",
       "      <td>5</td>\n",
       "      <td>75000</td>\n",
       "    </tr>\n",
       "    <tr>\n",
       "      <th>4</th>\n",
       "      <td>2021-05-05</td>\n",
       "      <td>4</td>\n",
       "      <td>60000</td>\n",
       "    </tr>\n",
       "    <tr>\n",
       "      <th>...</th>\n",
       "      <td>...</td>\n",
       "      <td>...</td>\n",
       "      <td>...</td>\n",
       "    </tr>\n",
       "    <tr>\n",
       "      <th>87</th>\n",
       "      <td>2021-07-27</td>\n",
       "      <td>5</td>\n",
       "      <td>75000</td>\n",
       "    </tr>\n",
       "    <tr>\n",
       "      <th>88</th>\n",
       "      <td>2021-07-28</td>\n",
       "      <td>5</td>\n",
       "      <td>75000</td>\n",
       "    </tr>\n",
       "    <tr>\n",
       "      <th>89</th>\n",
       "      <td>2021-07-29</td>\n",
       "      <td>6</td>\n",
       "      <td>90000</td>\n",
       "    </tr>\n",
       "    <tr>\n",
       "      <th>90</th>\n",
       "      <td>2021-07-30</td>\n",
       "      <td>6</td>\n",
       "      <td>90000</td>\n",
       "    </tr>\n",
       "    <tr>\n",
       "      <th>91</th>\n",
       "      <td>2021-07-31</td>\n",
       "      <td>8</td>\n",
       "      <td>120000</td>\n",
       "    </tr>\n",
       "  </tbody>\n",
       "</table>\n",
       "<p>92 rows × 3 columns</p>\n",
       "</div>"
      ],
      "text/plain": [
       "      Tanggal  Jumlah Cup yang Terjual  Penjualan Kopi Susu\n",
       "0  2021-05-01                        8               120000\n",
       "1  2021-05-02                        7               105000\n",
       "2  2021-05-03                        5                75000\n",
       "3  2021-05-04                        5                75000\n",
       "4  2021-05-05                        4                60000\n",
       "..        ...                      ...                  ...\n",
       "87 2021-07-27                        5                75000\n",
       "88 2021-07-28                        5                75000\n",
       "89 2021-07-29                        6                90000\n",
       "90 2021-07-30                        6                90000\n",
       "91 2021-07-31                        8               120000\n",
       "\n",
       "[92 rows x 3 columns]"
      ]
     },
     "execution_count": 2,
     "metadata": {},
     "output_type": "execute_result"
    }
   ],
   "source": [
    "df = pd.read_excel('TKTK.xlsx', sheet_name='KOPI SUSU')\n",
    "df"
   ]
  },
  {
   "cell_type": "code",
   "execution_count": 3,
   "id": "28568540",
   "metadata": {},
   "outputs": [
    {
     "data": {
      "text/plain": [
       "(92, 3)"
      ]
     },
     "execution_count": 3,
     "metadata": {},
     "output_type": "execute_result"
    }
   ],
   "source": [
    "df.shape"
   ]
  },
  {
   "cell_type": "code",
   "execution_count": 4,
   "id": "8b6226d5",
   "metadata": {},
   "outputs": [
    {
     "data": {
      "text/plain": [
       "0     120000\n",
       "1     105000\n",
       "2      75000\n",
       "3      75000\n",
       "4      60000\n",
       "       ...  \n",
       "87     75000\n",
       "88     75000\n",
       "89     90000\n",
       "90     90000\n",
       "91    120000\n",
       "Name: Penjualan Kopi Susu, Length: 92, dtype: int64"
      ]
     },
     "execution_count": 4,
     "metadata": {},
     "output_type": "execute_result"
    }
   ],
   "source": [
    "df1 = df.reset_index()['Penjualan Kopi Susu']\n",
    "df1"
   ]
  },
  {
   "cell_type": "code",
   "execution_count": 5,
   "id": "d23ad258",
   "metadata": {},
   "outputs": [
    {
     "data": {
      "text/plain": [
       "[<matplotlib.lines.Line2D at 0x21cfbb38cd0>]"
      ]
     },
     "execution_count": 5,
     "metadata": {},
     "output_type": "execute_result"
    },
    {
     "data": {
      "image/png": "[encoded data removed]",
      "text/plain": [
       "<Figure size 720x432 with 1 Axes>"
      ]
     },
     "metadata": {
      "needs_background": "light"
     },
     "output_type": "display_data"
    }
   ],
   "source": [
    "import matplotlib.pyplot as plt\n",
    "plt.plot(df1)"
   ]
  },
  {
   "cell_type": "code",
   "execution_count": 6,
   "id": "e8c51f7e",
   "metadata": {},
   "outputs": [],
   "source": [
    "#LSTM is sensitive to the scale of the data, so we apply MinMax Scaler\n",
    "import numpy as np\n",
    "from sklearn.preprocessing import MinMaxScaler"
   ]
  },
  {
   "cell_type": "code",
   "execution_count": 7,
   "id": "cf73254c",
   "metadata": {},
   "outputs": [
    {
     "name": "stdout",
     "output_type": "stream",
     "text": [
      "[[0.4 ]\n",
      " [0.35]\n",
      " [0.25]\n",
      " [0.25]\n",
      " [0.2 ]\n",
      " [0.15]\n",
      " [0.25]\n",
      " [0.3 ]\n",
      " [0.35]\n",
      " [0.3 ]\n",
      " [0.25]\n",
      " [0.2 ]\n",
      " [0.1 ]\n",
      " [0.3 ]\n",
      " [0.3 ]\n",
      " [0.45]\n",
      " [0.25]\n",
      " [0.2 ]\n",
      " [0.1 ]\n",
      " [0.25]\n",
      " [0.4 ]\n",
      " [0.5 ]\n",
      " [0.5 ]\n",
      " [0.3 ]\n",
      " [0.35]\n",
      " [0.25]\n",
      " [0.2 ]\n",
      " [0.3 ]\n",
      " [0.55]\n",
      " [0.45]\n",
      " [0.3 ]\n",
      " [0.2 ]\n",
      " [0.15]\n",
      " [0.25]\n",
      " [0.35]\n",
      " [0.5 ]\n",
      " [0.4 ]\n",
      " [0.35]\n",
      " [0.35]\n",
      " [0.55]\n",
      " [0.6 ]\n",
      " [0.75]\n",
      " [0.85]\n",
      " [1.  ]\n",
      " [0.85]\n",
      " [0.7 ]\n",
      " [0.65]\n",
      " [0.55]\n",
      " [0.6 ]\n",
      " [0.65]\n",
      " [0.45]\n",
      " [0.4 ]\n",
      " [0.35]\n",
      " [0.35]\n",
      " [0.4 ]\n",
      " [0.5 ]\n",
      " [0.65]\n",
      " [0.55]\n",
      " [0.4 ]\n",
      " [0.25]\n",
      " [0.15]\n",
      " [0.25]\n",
      " [0.45]\n",
      " [0.4 ]\n",
      " [0.25]\n",
      " [0.2 ]\n",
      " [0.15]\n",
      " [0.1 ]\n",
      " [0.1 ]\n",
      " [0.15]\n",
      " [0.2 ]\n",
      " [0.1 ]\n",
      " [0.05]\n",
      " [0.  ]\n",
      " [0.1 ]\n",
      " [0.1 ]\n",
      " [0.15]\n",
      " [0.2 ]\n",
      " [0.15]\n",
      " [0.05]\n",
      " [0.  ]\n",
      " [0.1 ]\n",
      " [0.05]\n",
      " [0.15]\n",
      " [0.2 ]\n",
      " [0.25]\n",
      " [0.2 ]\n",
      " [0.25]\n",
      " [0.25]\n",
      " [0.3 ]\n",
      " [0.3 ]\n",
      " [0.4 ]]\n"
     ]
    }
   ],
   "source": [
    "scaler = MinMaxScaler(feature_range = (0,1))\n",
    "df1 = scaler.fit_transform(np.array(df1).reshape(-1,1))\n",
    "print(df1)"
   ]
  },
  {
   "cell_type": "code",
   "execution_count": 111,
   "id": "62fe3346",
   "metadata": {},
   "outputs": [
    {
     "data": {
      "text/plain": [
       "(64, 28)"
      ]
     },
     "execution_count": 111,
     "metadata": {},
     "output_type": "execute_result"
    }
   ],
   "source": [
    "#Splitting the data into train and test split\n",
    "training_size = int(len(df1)*0.70)\n",
    "test_size = len(df)-training_size\n",
    "train_data, test_data = df1[0:training_size,:], df1[training_size:len(df1),:1]\n",
    "training_size, test_size"
   ]
  },
  {
   "cell_type": "code",
   "execution_count": 112,
   "id": "13922473",
   "metadata": {},
   "outputs": [
    {
     "data": {
      "text/plain": [
       "array([[0.4 ],\n",
       "       [0.35],\n",
       "       [0.25],\n",
       "       [0.25],\n",
       "       [0.2 ],\n",
       "       [0.15],\n",
       "       [0.25],\n",
       "       [0.3 ],\n",
       "       [0.35],\n",
       "       [0.3 ],\n",
       "       [0.25],\n",
       "       [0.2 ],\n",
       "       [0.1 ],\n",
       "       [0.3 ],\n",
       "       [0.3 ],\n",
       "       [0.45],\n",
       "       [0.25],\n",
       "       [0.2 ],\n",
       "       [0.1 ],\n",
       "       [0.25],\n",
       "       [0.4 ],\n",
       "       [0.5 ],\n",
       "       [0.5 ],\n",
       "       [0.3 ],\n",
       "       [0.35],\n",
       "       [0.25],\n",
       "       [0.2 ],\n",
       "       [0.3 ],\n",
       "       [0.55],\n",
       "       [0.45],\n",
       "       [0.3 ],\n",
       "       [0.2 ],\n",
       "       [0.15],\n",
       "       [0.25],\n",
       "       [0.35],\n",
       "       [0.5 ],\n",
       "       [0.4 ],\n",
       "       [0.35],\n",
       "       [0.35],\n",
       "       [0.55],\n",
       "       [0.6 ],\n",
       "       [0.75],\n",
       "       [0.85],\n",
       "       [1.  ],\n",
       "       [0.85],\n",
       "       [0.7 ],\n",
       "       [0.65],\n",
       "       [0.55],\n",
       "       [0.6 ],\n",
       "       [0.65],\n",
       "       [0.45],\n",
       "       [0.4 ],\n",
       "       [0.35],\n",
       "       [0.35],\n",
       "       [0.4 ],\n",
       "       [0.5 ],\n",
       "       [0.65],\n",
       "       [0.55],\n",
       "       [0.4 ],\n",
       "       [0.25],\n",
       "       [0.15],\n",
       "       [0.25],\n",
       "       [0.45],\n",
       "       [0.4 ]])"
      ]
     },
     "execution_count": 112,
     "metadata": {},
     "output_type": "execute_result"
    }
   ],
   "source": [
    "train_data"
   ]
  },
  {
   "cell_type": "code",
   "execution_count": 113,
   "id": "10ad7431",
   "metadata": {},
   "outputs": [],
   "source": [
    "import numpy\n",
    "#Convert an array of values into a dataset matrix\n",
    "def create_dataset(dataset, time_step=1):\n",
    "    dataX, dataY = [], []\n",
    "    for i in range (len(dataset)-time_step-1):\n",
    "        a = dataset[i:(i+time_step), 0]   #i=0, 0,1,2,3----9   10\n",
    "        dataX.append(a)\n",
    "        dataY.append(dataset[i + time_step, 0])\n",
    "    return numpy.array(dataX), numpy.array(dataY)"
   ]
  },
  {
   "cell_type": "code",
   "execution_count": 114,
   "id": "d55cd3a8",
   "metadata": {},
   "outputs": [],
   "source": [
    "#Reshape into X=t, t+1, t+2, t+3, and Y=t+4\n",
    "time_step = 15\n",
    "X_train, y_train = create_dataset(train_data, time_step)\n",
    "X_test, ytest = create_dataset(test_data, time_step)"
   ]
  },
  {
   "cell_type": "code",
   "execution_count": 115,
   "id": "6e74c51a",
   "metadata": {},
   "outputs": [
    {
     "name": "stdout",
     "output_type": "stream",
     "text": [
      "(48, 15)\n",
      "(48,)\n"
     ]
    },
    {
     "data": {
      "text/plain": [
       "(None, None)"
      ]
     },
     "execution_count": 115,
     "metadata": {},
     "output_type": "execute_result"
    }
   ],
   "source": [
    "print(X_train.shape), print(y_train.shape)"
   ]
  },
  {
   "cell_type": "code",
   "execution_count": 116,
   "id": "8c066bf0",
   "metadata": {},
   "outputs": [
    {
     "name": "stdout",
     "output_type": "stream",
     "text": [
      "(12, 15)\n",
      "(12,)\n"
     ]
    },
    {
     "data": {
      "text/plain": [
       "(None, None)"
      ]
     },
     "execution_count": 116,
     "metadata": {},
     "output_type": "execute_result"
    }
   ],
   "source": [
    "print(X_test.shape), print(ytest.shape)"
   ]
  },
  {
   "cell_type": "code",
   "execution_count": 117,
   "id": "7ca792a7",
   "metadata": {},
   "outputs": [],
   "source": [
    "#Reshape input to be [samples, time_steps, features] which is required for LSTM\n",
    "X_train = X_train.reshape(X_train.shape[0], X_train.shape[1], 1)\n",
    "X_test = X_test.reshape(X_test.shape[0], X_test.shape[1], 1)"
   ]
  },
  {
   "cell_type": "code",
   "execution_count": 118,
   "id": "faa3672e",
   "metadata": {
    "scrolled": true
   },
   "outputs": [],
   "source": [
    "#Create the stacked LSTM Model\n",
    "from tensorflow.keras.models import Sequential\n",
    "from tensorflow.keras.layers import Dense\n",
    "from tensorflow.keras.layers import LSTM"
   ]
  },
  {
   "cell_type": "code",
   "execution_count": 119,
   "id": "a55c8830",
   "metadata": {},
   "outputs": [],
   "source": [
    "model = Sequential()\n",
    "model.add(LSTM(50, return_sequences=True, input_shape=(15,1)))\n",
    "model.add(LSTM(50, return_sequences=True))\n",
    "model.add(LSTM(50))\n",
    "model.add(Dense(1))\n",
    "model.compile(loss='mean_squared_error', optimizer='adam')"
   ]
  },
  {
   "cell_type": "code",
   "execution_count": 120,
   "id": "e7a94310",
   "metadata": {},
   "outputs": [
    {
     "name": "stdout",
     "output_type": "stream",
     "text": [
      "Model: \"sequential_3\"\n",
      "_________________________________________________________________\n",
      "Layer (type)                 Output Shape              Param #   \n",
      "=================================================================\n",
      "lstm_9 (LSTM)                (None, 15, 50)            10400     \n",
      "_________________________________________________________________\n",
      "lstm_10 (LSTM)               (None, 15, 50)            20200     \n",
      "_________________________________________________________________\n",
      "lstm_11 (LSTM)               (None, 50)                20200     \n",
      "_________________________________________________________________\n",
      "dense_3 (Dense)              (None, 1)                 51        \n",
      "=================================================================\n",
      "Total params: 50,851\n",
      "Trainable params: 50,851\n",
      "Non-trainable params: 0\n",
      "_________________________________________________________________\n"
     ]
    }
   ],
   "source": [
    "model.summary()"
   ]
  },
  {
   "cell_type": "code",
   "execution_count": 121,
   "id": "ad46f009",
   "metadata": {},
   "outputs": [
    {
     "name": "stdout",
     "output_type": "stream",
     "text": [
      "Epoch 1/50\n",
      "48/48 [==============================] - 6s 41ms/step - loss: 0.0672 - val_loss: 0.0131\n",
      "Epoch 2/50\n",
      "48/48 [==============================] - 1s 21ms/step - loss: 0.0441 - val_loss: 0.0110\n",
      "Epoch 3/50\n",
      "48/48 [==============================] - 1s 20ms/step - loss: 0.0412 - val_loss: 0.0349\n",
      "Epoch 4/50\n",
      "48/48 [==============================] - 1s 21ms/step - loss: 0.0429 - val_loss: 0.0191\n",
      "Epoch 5/50\n",
      "48/48 [==============================] - 1s 21ms/step - loss: 0.0448 - val_loss: 0.0211\n",
      "Epoch 6/50\n",
      "48/48 [==============================] - 1s 21ms/step - loss: 0.0383 - val_loss: 0.0291\n",
      "Epoch 7/50\n",
      "48/48 [==============================] - 1s 21ms/step - loss: 0.0372 - val_loss: 0.0281\n",
      "Epoch 8/50\n",
      "48/48 [==============================] - 1s 21ms/step - loss: 0.0389 - val_loss: 0.0316\n",
      "Epoch 9/50\n",
      "48/48 [==============================] - 1s 21ms/step - loss: 0.0375 - val_loss: 0.0332\n",
      "Epoch 10/50\n",
      "48/48 [==============================] - 1s 21ms/step - loss: 0.0327 - val_loss: 0.0474\n",
      "Epoch 11/50\n",
      "48/48 [==============================] - 1s 21ms/step - loss: 0.0403 - val_loss: 0.0869\n",
      "Epoch 12/50\n",
      "48/48 [==============================] - 1s 21ms/step - loss: 0.0377 - val_loss: 0.0214\n",
      "Epoch 13/50\n",
      "48/48 [==============================] - 1s 21ms/step - loss: 0.0332 - val_loss: 0.0376\n",
      "Epoch 14/50\n",
      "48/48 [==============================] - 1s 21ms/step - loss: 0.0316 - val_loss: 0.0253\n",
      "Epoch 15/50\n",
      "48/48 [==============================] - 1s 21ms/step - loss: 0.0291 - val_loss: 0.0161\n",
      "Epoch 16/50\n",
      "48/48 [==============================] - 1s 21ms/step - loss: 0.0338 - val_loss: 0.0146\n",
      "Epoch 17/50\n",
      "48/48 [==============================] - 1s 21ms/step - loss: 0.0308 - val_loss: 0.0260\n",
      "Epoch 18/50\n",
      "48/48 [==============================] - 1s 21ms/step - loss: 0.0312 - val_loss: 0.0545\n",
      "Epoch 19/50\n",
      "48/48 [==============================] - 1s 21ms/step - loss: 0.0319 - val_loss: 0.0260\n",
      "Epoch 20/50\n",
      "48/48 [==============================] - 1s 21ms/step - loss: 0.0264 - val_loss: 0.0115\n",
      "Epoch 21/50\n",
      "48/48 [==============================] - 1s 21ms/step - loss: 0.0322 - val_loss: 0.0202\n",
      "Epoch 22/50\n",
      "48/48 [==============================] - 1s 21ms/step - loss: 0.0292 - val_loss: 0.0204\n",
      "Epoch 23/50\n",
      "48/48 [==============================] - 1s 21ms/step - loss: 0.0285 - val_loss: 0.0188\n",
      "Epoch 24/50\n",
      "48/48 [==============================] - 1s 21ms/step - loss: 0.0276 - val_loss: 0.0217\n",
      "Epoch 25/50\n",
      "48/48 [==============================] - 1s 21ms/step - loss: 0.0272 - val_loss: 0.0175\n",
      "Epoch 26/50\n",
      "48/48 [==============================] - 1s 21ms/step - loss: 0.0232 - val_loss: 0.0118\n",
      "Epoch 27/50\n",
      "48/48 [==============================] - 1s 21ms/step - loss: 0.0264 - val_loss: 0.0172\n",
      "Epoch 28/50\n",
      "48/48 [==============================] - 1s 21ms/step - loss: 0.0225 - val_loss: 0.0134\n",
      "Epoch 29/50\n",
      "48/48 [==============================] - 1s 21ms/step - loss: 0.0217 - val_loss: 0.0140\n",
      "Epoch 30/50\n",
      "48/48 [==============================] - 1s 21ms/step - loss: 0.0204 - val_loss: 0.0116\n",
      "Epoch 31/50\n",
      "48/48 [==============================] - 1s 21ms/step - loss: 0.0189 - val_loss: 0.0140\n",
      "Epoch 32/50\n",
      "48/48 [==============================] - 1s 21ms/step - loss: 0.0168 - val_loss: 0.0083\n",
      "Epoch 33/50\n",
      "48/48 [==============================] - 1s 21ms/step - loss: 0.0177 - val_loss: 0.0084\n",
      "Epoch 34/50\n",
      "48/48 [==============================] - 1s 20ms/step - loss: 0.0164 - val_loss: 0.0096\n",
      "Epoch 35/50\n",
      "48/48 [==============================] - 1s 21ms/step - loss: 0.0170 - val_loss: 0.0151\n",
      "Epoch 36/50\n",
      "48/48 [==============================] - 1s 21ms/step - loss: 0.0172 - val_loss: 0.0105\n",
      "Epoch 37/50\n",
      "48/48 [==============================] - 1s 21ms/step - loss: 0.0145 - val_loss: 0.0187\n",
      "Epoch 38/50\n",
      "48/48 [==============================] - 1s 21ms/step - loss: 0.0205 - val_loss: 0.0193\n",
      "Epoch 39/50\n",
      "48/48 [==============================] - 1s 21ms/step - loss: 0.0147 - val_loss: 0.0072\n",
      "Epoch 40/50\n",
      "48/48 [==============================] - 1s 21ms/step - loss: 0.0143 - val_loss: 0.0114\n",
      "Epoch 41/50\n",
      "48/48 [==============================] - 1s 21ms/step - loss: 0.0173 - val_loss: 0.0108\n",
      "Epoch 42/50\n",
      "48/48 [==============================] - 1s 21ms/step - loss: 0.0171 - val_loss: 0.0102\n",
      "Epoch 43/50\n",
      "48/48 [==============================] - 1s 21ms/step - loss: 0.0137 - val_loss: 0.0107\n",
      "Epoch 44/50\n",
      "48/48 [==============================] - 1s 21ms/step - loss: 0.0116 - val_loss: 0.0110\n",
      "Epoch 45/50\n",
      "48/48 [==============================] - 1s 21ms/step - loss: 0.0129 - val_loss: 0.0066\n",
      "Epoch 46/50\n",
      "48/48 [==============================] - 1s 21ms/step - loss: 0.0107 - val_loss: 0.0093\n",
      "Epoch 47/50\n",
      "48/48 [==============================] - 1s 21ms/step - loss: 0.0132 - val_loss: 0.0072\n",
      "Epoch 48/50\n",
      "48/48 [==============================] - 1s 21ms/step - loss: 0.0105 - val_loss: 0.0064\n",
      "Epoch 49/50\n",
      "48/48 [==============================] - 1s 21ms/step - loss: 0.0100 - val_loss: 0.0058\n",
      "Epoch 50/50\n",
      "48/48 [==============================] - 1s 21ms/step - loss: 0.0104 - val_loss: 0.0082\n"
     ]
    },
    {
     "data": {
      "text/plain": [
       "<keras.callbacks.History at 0x21cbf8dc700>"
      ]
     },
     "execution_count": 121,
     "metadata": {},
     "output_type": "execute_result"
    }
   ],
   "source": [
    "model.fit(X_train, y_train, validation_data=(X_test, ytest), epochs=50, batch_size=1, verbose=1)"
   ]
  },
  {
   "cell_type": "code",
   "execution_count": 122,
   "id": "9c5fae49",
   "metadata": {},
   "outputs": [],
   "source": [
    "import tensorflow as tf"
   ]
  },
  {
   "cell_type": "code",
   "execution_count": 123,
   "id": "5bb07727",
   "metadata": {},
   "outputs": [],
   "source": [
    "#Do the prediction and check performance metrics\n",
    "train_predict = model.predict(X_train)\n",
    "test_predict = model.predict(X_test)"
   ]
  },
  {
   "cell_type": "code",
   "execution_count": 124,
   "id": "cd8d11e2",
   "metadata": {},
   "outputs": [],
   "source": [
    "#Transformback to original form\n",
    "train_predict = scaler.inverse_transform(train_predict)\n",
    "test_predict = scaler.inverse_transform(test_predict)"
   ]
  },
  {
   "cell_type": "code",
   "execution_count": 125,
   "id": "4a8f33f4",
   "metadata": {},
   "outputs": [
    {
     "data": {
      "text/plain": [
       "139569.16661293473"
      ]
     },
     "execution_count": 125,
     "metadata": {},
     "output_type": "execute_result"
    }
   ],
   "source": [
    "#Calculate RSME perfomance metrics\n",
    "import math\n",
    "from sklearn.metrics import mean_squared_error\n",
    "math.sqrt(mean_squared_error(y_train, train_predict))"
   ]
  },
  {
   "cell_type": "code",
   "execution_count": 126,
   "id": "a1904b1a",
   "metadata": {},
   "outputs": [
    {
     "data": {
      "text/plain": [
       "73996.76707853704"
      ]
     },
     "execution_count": 126,
     "metadata": {},
     "output_type": "execute_result"
    }
   ],
   "source": [
    "#Test data RSME\n",
    "math.sqrt(mean_squared_error(ytest, test_predict))"
   ]
  },
  {
   "cell_type": "code",
   "execution_count": 138,
   "id": "fc00a958",
   "metadata": {},
   "outputs": [
    {
     "data": {
      "image/png": "[encoded data removed]",
      "text/plain": [
       "<Figure size 720x432 with 1 Axes>"
      ]
     },
     "metadata": {
      "needs_background": "light"
     },
     "output_type": "display_data"
    }
   ],
   "source": [
    "###Plotting\n",
    "#Shift train prediction for plotting\n",
    "look_back = 15\n",
    "trainPredictPlot = numpy.empty_like(df1)\n",
    "trainPredictPlot[:, :] = np.nan\n",
    "trainPredictPlot[look_back: len(train_predict)+look_back, :] = train_predict\n",
    "#Shift test prediction for plotting\n",
    "testPredictPlot = numpy.empty_like(df1)\n",
    "testPredictPlot[:, :] = numpy.nan\n",
    "testPredictPlot[len(train_predict)+(look_back*2)+1:len(df1)-1, :] = test_predict\n",
    "#Plot baseline and predictions\n",
    "plt.plot(scaler.inverse_transform(df1))\n",
    "plt.plot(trainPredictPlot, label='Train Data')\n",
    "plt.plot(testPredictPlot, label='Test Data')\n",
    "plt.title('Penjualan Kopi Susu Mei-Juli 2021')\n",
    "plt.legend(loc='best')\n",
    "plt.show()"
   ]
  },
  {
   "cell_type": "code",
   "execution_count": 128,
   "id": "dc15df56",
   "metadata": {},
   "outputs": [
    {
     "data": {
      "text/plain": [
       "28"
      ]
     },
     "execution_count": 128,
     "metadata": {},
     "output_type": "execute_result"
    }
   ],
   "source": [
    "len(test_data)"
   ]
  },
  {
   "cell_type": "code",
   "execution_count": 129,
   "id": "380aa5d1",
   "metadata": {},
   "outputs": [
    {
     "data": {
      "text/plain": [
       "(1, 15)"
      ]
     },
     "execution_count": 129,
     "metadata": {},
     "output_type": "execute_result"
    }
   ],
   "source": [
    "x_input = test_data[13:].reshape(1,-1)\n",
    "x_input.shape"
   ]
  },
  {
   "cell_type": "code",
   "execution_count": 130,
   "id": "19705521",
   "metadata": {},
   "outputs": [
    {
     "data": {
      "text/plain": [
       "[0.2,\n",
       " 0.15,\n",
       " 0.05,\n",
       " 0.0,\n",
       " 0.1,\n",
       " 0.05,\n",
       " 0.15,\n",
       " 0.2,\n",
       " 0.25,\n",
       " 0.2,\n",
       " 0.25,\n",
       " 0.25,\n",
       " 0.3,\n",
       " 0.3,\n",
       " 0.4]"
      ]
     },
     "execution_count": 130,
     "metadata": {},
     "output_type": "execute_result"
    }
   ],
   "source": [
    "temp_input=list(x_input)\n",
    "temp_input=temp_input[0].tolist()\n",
    "temp_input"
   ]
  },
  {
   "cell_type": "code",
   "execution_count": 131,
   "id": "444ec3c2",
   "metadata": {},
   "outputs": [
    {
     "name": "stdout",
     "output_type": "stream",
     "text": [
      "[0.43578354]\n",
      "16\n",
      "1 day input [0.15       0.05       0.         0.1        0.05       0.15\n",
      " 0.2        0.25       0.2        0.25       0.25       0.3\n",
      " 0.3        0.4        0.43578354]\n",
      "1 day output [[0.45714715]]\n",
      "2 day input [0.05       0.         0.1        0.05       0.15       0.2\n",
      " 0.25       0.2        0.25       0.25       0.3        0.3\n",
      " 0.4        0.43578354 0.45714715]\n",
      "2 day output [[0.45203036]]\n",
      "3 day input [0.         0.1        0.05       0.15       0.2        0.25\n",
      " 0.2        0.25       0.25       0.3        0.3        0.4\n",
      " 0.43578354 0.45714715 0.45203036]\n",
      "3 day output [[0.44258875]]\n",
      "4 day input [0.1        0.05       0.15       0.2        0.25       0.2\n",
      " 0.25       0.25       0.3        0.3        0.4        0.43578354\n",
      " 0.45714715 0.45203036 0.44258875]\n",
      "4 day output [[0.44861603]]\n",
      "5 day input [0.05       0.15       0.2        0.25       0.2        0.25\n",
      " 0.25       0.3        0.3        0.4        0.43578354 0.45714715\n",
      " 0.45203036 0.44258875 0.44861603]\n",
      "5 day output [[0.4742875]]\n",
      "6 day input [0.15       0.2        0.25       0.2        0.25       0.25\n",
      " 0.3        0.3        0.4        0.43578354 0.45714715 0.45203036\n",
      " 0.44258875 0.44861603 0.47428751]\n",
      "6 day output [[0.50772023]]\n",
      "7 day input [0.2        0.25       0.2        0.25       0.25       0.3\n",
      " 0.3        0.4        0.43578354 0.45714715 0.45203036 0.44258875\n",
      " 0.44861603 0.47428751 0.50772023]\n",
      "7 day output [[0.52749026]]\n",
      "8 day input [0.25       0.2        0.25       0.25       0.3        0.3\n",
      " 0.4        0.43578354 0.45714715 0.45203036 0.44258875 0.44861603\n",
      " 0.47428751 0.50772023 0.52749026]\n",
      "8 day output [[0.5182348]]\n",
      "9 day input [0.2        0.25       0.25       0.3        0.3        0.4\n",
      " 0.43578354 0.45714715 0.45203036 0.44258875 0.44861603 0.47428751\n",
      " 0.50772023 0.52749026 0.51823479]\n",
      "9 day output [[0.48289186]]\n",
      "10 day input [0.25       0.25       0.3        0.3        0.4        0.43578354\n",
      " 0.45714715 0.45203036 0.44258875 0.44861603 0.47428751 0.50772023\n",
      " 0.52749026 0.51823479 0.48289186]\n",
      "10 day output [[0.44162217]]\n",
      "11 day input [0.25       0.3        0.3        0.4        0.43578354 0.45714715\n",
      " 0.45203036 0.44258875 0.44861603 0.47428751 0.50772023 0.52749026\n",
      " 0.51823479 0.48289186 0.44162217]\n",
      "11 day output [[0.4146714]]\n",
      "12 day input [0.3        0.3        0.4        0.43578354 0.45714715 0.45203036\n",
      " 0.44258875 0.44861603 0.47428751 0.50772023 0.52749026 0.51823479\n",
      " 0.48289186 0.44162217 0.41467139]\n",
      "12 day output [[0.40996298]]\n",
      "13 day input [0.3        0.4        0.43578354 0.45714715 0.45203036 0.44258875\n",
      " 0.44861603 0.47428751 0.50772023 0.52749026 0.51823479 0.48289186\n",
      " 0.44162217 0.41467139 0.40996298]\n",
      "13 day output [[0.42017373]]\n",
      "14 day input [0.4        0.43578354 0.45714715 0.45203036 0.44258875 0.44861603\n",
      " 0.47428751 0.50772023 0.52749026 0.51823479 0.48289186 0.44162217\n",
      " 0.41467139 0.40996298 0.42017373]\n",
      "14 day output [[0.42996007]]\n",
      "15 day input [0.43578354 0.45714715 0.45203036 0.44258875 0.44861603 0.47428751\n",
      " 0.50772023 0.52749026 0.51823479 0.48289186 0.44162217 0.41467139\n",
      " 0.40996298 0.42017373 0.42996007]\n",
      "15 day output [[0.42396316]]\n",
      "16 day input [0.45714715 0.45203036 0.44258875 0.44861603 0.47428751 0.50772023\n",
      " 0.52749026 0.51823479 0.48289186 0.44162217 0.41467139 0.40996298\n",
      " 0.42017373 0.42996007 0.42396316]\n",
      "16 day output [[0.40005225]]\n",
      "17 day input [0.45203036 0.44258875 0.44861603 0.47428751 0.50772023 0.52749026\n",
      " 0.51823479 0.48289186 0.44162217 0.41467139 0.40996298 0.42017373\n",
      " 0.42996007 0.42396316 0.40005225]\n",
      "17 day output [[0.37077516]]\n",
      "18 day input [0.44258875 0.44861603 0.47428751 0.50772023 0.52749026 0.51823479\n",
      " 0.48289186 0.44162217 0.41467139 0.40996298 0.42017373 0.42996007\n",
      " 0.42396316 0.40005225 0.37077516]\n",
      "18 day output [[0.35390908]]\n",
      "19 day input [0.44861603 0.47428751 0.50772023 0.52749026 0.51823479 0.48289186\n",
      " 0.44162217 0.41467139 0.40996298 0.42017373 0.42996007 0.42396316\n",
      " 0.40005225 0.37077516 0.35390908]\n",
      "19 day output [[0.3587383]]\n",
      "20 day input [0.47428751 0.50772023 0.52749026 0.51823479 0.48289186 0.44162217\n",
      " 0.41467139 0.40996298 0.42017373 0.42996007 0.42396316 0.40005225\n",
      " 0.37077516 0.35390908 0.3587383 ]\n",
      "20 day output [[0.38078466]]\n",
      "21 day input [0.50772023 0.52749026 0.51823479 0.48289186 0.44162217 0.41467139\n",
      " 0.40996298 0.42017373 0.42996007 0.42396316 0.40005225 0.37077516\n",
      " 0.35390908 0.3587383  0.38078466]\n",
      "21 day output [[0.40560803]]\n",
      "22 day input [0.52749026 0.51823479 0.48289186 0.44162217 0.41467139 0.40996298\n",
      " 0.42017373 0.42996007 0.42396316 0.40005225 0.37077516 0.35390908\n",
      " 0.3587383  0.38078466 0.40560803]\n",
      "22 day output [[0.41743767]]\n",
      "23 day input [0.51823479 0.48289186 0.44162217 0.41467139 0.40996298 0.42017373\n",
      " 0.42996007 0.42396316 0.40005225 0.37077516 0.35390908 0.3587383\n",
      " 0.38078466 0.40560803 0.41743767]\n",
      "23 day output [[0.40992615]]\n",
      "24 day input [0.48289186 0.44162217 0.41467139 0.40996298 0.42017373 0.42996007\n",
      " 0.42396316 0.40005225 0.37077516 0.35390908 0.3587383  0.38078466\n",
      " 0.40560803 0.41743767 0.40992615]\n",
      "24 day output [[0.3917381]]\n",
      "25 day input [0.44162217 0.41467139 0.40996298 0.42017373 0.42996007 0.42396316\n",
      " 0.40005225 0.37077516 0.35390908 0.3587383  0.38078466 0.40560803\n",
      " 0.41743767 0.40992615 0.39173809]\n",
      "25 day output [[0.37976426]]\n",
      "26 day input [0.41467139 0.40996298 0.42017373 0.42996007 0.42396316 0.40005225\n",
      " 0.37077516 0.35390908 0.3587383  0.38078466 0.40560803 0.41743767\n",
      " 0.40992615 0.39173809 0.37976426]\n",
      "26 day output [[0.38550824]]\n",
      "27 day input [0.40996298 0.42017373 0.42996007 0.42396316 0.40005225 0.37077516\n",
      " 0.35390908 0.3587383  0.38078466 0.40560803 0.41743767 0.40992615\n",
      " 0.39173809 0.37976426 0.38550824]\n",
      "27 day output [[0.40742323]]\n",
      "28 day input [0.42017373 0.42996007 0.42396316 0.40005225 0.37077516 0.35390908\n",
      " 0.3587383  0.38078466 0.40560803 0.41743767 0.40992615 0.39173809\n",
      " 0.37976426 0.38550824 0.40742323]\n",
      "28 day output [[0.43294638]]\n",
      "29 day input [0.42996007 0.42396316 0.40005225 0.37077516 0.35390908 0.3587383\n",
      " 0.38078466 0.40560803 0.41743767 0.40992615 0.39173809 0.37976426\n",
      " 0.38550824 0.40742323 0.43294638]\n",
      "29 day output [[0.4464279]]\n",
      "[[0.4357835352420807], [0.45714715123176575], [0.45203036069869995], [0.442588746547699], [0.44861602783203125], [0.4742875099182129], [0.5077202320098877], [0.5274902582168579], [0.5182347893714905], [0.48289185762405396], [0.44162216782569885], [0.414671391248703], [0.4099629819393158], [0.4201737344264984], [0.42996007204055786], [0.42396315932273865], [0.4000522494316101], [0.37077516317367554], [0.35390907526016235], [0.3587383031845093], [0.38078466057777405], [0.40560802817344666], [0.41743767261505127], [0.4099261462688446], [0.39173808693885803], [0.37976425886154175], [0.3855082392692566], [0.4074232280254364], [0.4329463839530945], [0.4464279115200043]]\n"
     ]
    }
   ],
   "source": [
    "#Demonstrate prediction next 10 days\n",
    "from numpy import array\n",
    "lst_output = []\n",
    "n_steps = 15\n",
    "i = 0\n",
    "while(i<30):\n",
    "    if (len(temp_input)>15):\n",
    "        #print temp_input\n",
    "        x_input=np.array(temp_input[1:])\n",
    "        print(\"{} day input {}\".format(i,x_input))\n",
    "        x_input=x_input.reshape(1,-1)\n",
    "        x_input=x_input.reshape((1, n_steps, 1))\n",
    "        #print x_input\n",
    "        yhat = model.predict(x_input, verbose=0)\n",
    "        print(\"{} day output {}\".format(i,yhat))\n",
    "        temp_input.extend(yhat[0].tolist())\n",
    "        temp_input=temp_input[1:]\n",
    "        #print temp_input\n",
    "        lst_output.extend(yhat.tolist())\n",
    "        i=i+1\n",
    "    else:\n",
    "        x_input = x_input.reshape((1, n_steps, 1))\n",
    "        yhat = model.predict(x_input, verbose=0)\n",
    "        print(yhat[0])\n",
    "        temp_input.extend(yhat[0].tolist())\n",
    "        print(len(temp_input))\n",
    "        lst_output.extend(yhat.tolist())\n",
    "        i=i+1\n",
    "\n",
    "print(lst_output)"
   ]
  },
  {
   "cell_type": "code",
   "execution_count": 132,
   "id": "1a8846ed",
   "metadata": {},
   "outputs": [],
   "source": [
    "day_new = np.arange(1,16)\n",
    "day_pred = np.arange(16,46)"
   ]
  },
  {
   "cell_type": "code",
   "execution_count": 133,
   "id": "0ac6e3e6",
   "metadata": {},
   "outputs": [],
   "source": [
    "import matplotlib.pyplot as plt"
   ]
  },
  {
   "cell_type": "code",
   "execution_count": 134,
   "id": "5bbb742e",
   "metadata": {},
   "outputs": [
    {
     "data": {
      "text/plain": [
       "92"
      ]
     },
     "execution_count": 134,
     "metadata": {},
     "output_type": "execute_result"
    }
   ],
   "source": [
    "len(df1)"
   ]
  },
  {
   "cell_type": "code",
   "execution_count": 32,
   "id": "cfb21bbe",
   "metadata": {},
   "outputs": [],
   "source": [
    "# df3=df1.tolist()\n",
    "# df3.extend(lst_output)"
   ]
  },
  {
   "cell_type": "code",
   "execution_count": 144,
   "id": "5361d8ab",
   "metadata": {},
   "outputs": [
    {
     "data": {
      "text/plain": [
       "Text(0.5, 1.0, 'Peramalan Penjualan Kopi Susu 30 Hari ke depan')"
      ]
     },
     "execution_count": 144,
     "metadata": {},
     "output_type": "execute_result"
    },
    {
     "data": {
      "image/png": "[encoded data removed]",
      "text/plain": [
       "<Figure size 720x432 with 1 Axes>"
      ]
     },
     "metadata": {
      "needs_background": "light"
     },
     "output_type": "display_data"
    }
   ],
   "source": [
    "plt.plot(day_new, scaler.inverse_transform(df1[77:]))\n",
    "plt.plot(day_pred, scaler.inverse_transform(lst_output))\n",
    "plt.title('Peramalan Penjualan Kopi Susu 30 Hari ke depan')"
   ]
  },
  {
   "cell_type": "code",
   "execution_count": 140,
   "id": "1e0e6e72",
   "metadata": {},
   "outputs": [
    {
     "data": {
      "text/plain": [
       "[<matplotlib.lines.Line2D at 0x21cc3870760>]"
      ]
     },
     "execution_count": 140,
     "metadata": {},
     "output_type": "execute_result"
    },
    {
     "data": {
      "image/png": "[encoded data removed]",
      "text/plain": [
       "<Figure size 720x432 with 1 Axes>"
      ]
     },
     "metadata": {
      "needs_background": "light"
     },
     "output_type": "display_data"
    }
   ],
   "source": [
    "df3=df1.tolist()\n",
    "df3.extend(lst_output)\n",
    "plt.plot(df3[30:])"
   ]
  }
 ],
 "metadata": {
  "kernelspec": {
   "display_name": "Python 3 (ipykernel)",
   "language": "python",
   "name": "python3"
  },
  "language_info": {
   "codemirror_mode": {
    "name": "ipython",
    "version": 3
   },
   "file_extension": ".py",
   "mimetype": "text/x-python",
   "name": "python",
   "nbconvert_exporter": "python",
   "pygments_lexer": "ipython3",
   "version": "3.8.5"
  }
 },
 "nbformat": 4,
 "nbformat_minor": 5
}
