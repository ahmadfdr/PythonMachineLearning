{
 "cells": [
  {
   "cell_type": "code",
   "execution_count": 1,
   "id": "329463b4",
   "metadata": {},
   "outputs": [],
   "source": [
    "import pandas as pd\n",
    "from matplotlib.pylab import rcParams\n",
    "rcParams['figure.figsize'] = 10,6"
   ]
  },
  {
   "cell_type": "code",
   "execution_count": 2,
   "id": "01ce2498",
   "metadata": {},
   "outputs": [
    {
     "data": {
      "text/html": [
       "<div>\n",
       "<style scoped>\n",
       "    .dataframe tbody tr th:only-of-type {\n",
       "        vertical-align: middle;\n",
       "    }\n",
       "\n",
       "    .dataframe tbody tr th {\n",
       "        vertical-align: top;\n",
       "    }\n",
       "\n",
       "    .dataframe thead th {\n",
       "        text-align: right;\n",
       "    }\n",
       "</style>\n",
       "<table border=\"1\" class=\"dataframe\">\n",
       "  <thead>\n",
       "    <tr style=\"text-align: right;\">\n",
       "      <th></th>\n",
       "      <th>Tanggal</th>\n",
       "      <th>Penjualan Kopi Susu</th>\n",
       "    </tr>\n",
       "  </thead>\n",
       "  <tbody>\n",
       "    <tr>\n",
       "      <th>0</th>\n",
       "      <td>2021-05-01</td>\n",
       "      <td>390000</td>\n",
       "    </tr>\n",
       "    <tr>\n",
       "      <th>1</th>\n",
       "      <td>2021-05-02</td>\n",
       "      <td>330000</td>\n",
       "    </tr>\n",
       "    <tr>\n",
       "      <th>2</th>\n",
       "      <td>2021-05-03</td>\n",
       "      <td>285000</td>\n",
       "    </tr>\n",
       "    <tr>\n",
       "      <th>3</th>\n",
       "      <td>2021-05-04</td>\n",
       "      <td>210000</td>\n",
       "    </tr>\n",
       "    <tr>\n",
       "      <th>4</th>\n",
       "      <td>2021-05-05</td>\n",
       "      <td>195000</td>\n",
       "    </tr>\n",
       "    <tr>\n",
       "      <th>...</th>\n",
       "      <td>...</td>\n",
       "      <td>...</td>\n",
       "    </tr>\n",
       "    <tr>\n",
       "      <th>88</th>\n",
       "      <td>2021-07-28</td>\n",
       "      <td>180000</td>\n",
       "    </tr>\n",
       "    <tr>\n",
       "      <th>89</th>\n",
       "      <td>2021-07-29</td>\n",
       "      <td>195000</td>\n",
       "    </tr>\n",
       "    <tr>\n",
       "      <th>90</th>\n",
       "      <td>2021-07-30</td>\n",
       "      <td>210000</td>\n",
       "    </tr>\n",
       "    <tr>\n",
       "      <th>91</th>\n",
       "      <td>2021-07-31</td>\n",
       "      <td>270000</td>\n",
       "    </tr>\n",
       "    <tr>\n",
       "      <th>92</th>\n",
       "      <td>2021-07-31</td>\n",
       "      <td>285000</td>\n",
       "    </tr>\n",
       "  </tbody>\n",
       "</table>\n",
       "<p>93 rows × 2 columns</p>\n",
       "</div>"
      ],
      "text/plain": [
       "      Tanggal  Penjualan Kopi Susu\n",
       "0  2021-05-01               390000\n",
       "1  2021-05-02               330000\n",
       "2  2021-05-03               285000\n",
       "3  2021-05-04               210000\n",
       "4  2021-05-05               195000\n",
       "..        ...                  ...\n",
       "88 2021-07-28               180000\n",
       "89 2021-07-29               195000\n",
       "90 2021-07-30               210000\n",
       "91 2021-07-31               270000\n",
       "92 2021-07-31               285000\n",
       "\n",
       "[93 rows x 2 columns]"
      ]
     },
     "execution_count": 2,
     "metadata": {},
     "output_type": "execute_result"
    }
   ],
   "source": [
    "df = pd.read_excel('TKTK1.xlsx', sheet_name='KOPI SUSU')\n",
    "df"
   ]
  },
  {
   "cell_type": "code",
   "execution_count": 3,
   "id": "28568540",
   "metadata": {},
   "outputs": [
    {
     "data": {
      "text/plain": [
       "(93, 2)"
      ]
     },
     "execution_count": 3,
     "metadata": {},
     "output_type": "execute_result"
    }
   ],
   "source": [
    "df.shape"
   ]
  },
  {
   "cell_type": "code",
   "execution_count": 4,
   "id": "8b6226d5",
   "metadata": {},
   "outputs": [
    {
     "data": {
      "text/plain": [
       "0     390000\n",
       "1     330000\n",
       "2     285000\n",
       "3     210000\n",
       "4     195000\n",
       "       ...  \n",
       "88    180000\n",
       "89    195000\n",
       "90    210000\n",
       "91    270000\n",
       "92    285000\n",
       "Name: Penjualan Kopi Susu, Length: 93, dtype: int64"
      ]
     },
     "execution_count": 4,
     "metadata": {},
     "output_type": "execute_result"
    }
   ],
   "source": [
    "df1 = df.reset_index()['Penjualan Kopi Susu']\n",
    "df1"
   ]
  },
  {
   "cell_type": "code",
   "execution_count": 5,
   "id": "d23ad258",
   "metadata": {},
   "outputs": [
    {
     "data": {
      "text/plain": [
       "[<matplotlib.lines.Line2D at 0x2d97f9b1d00>]"
      ]
     },
     "execution_count": 5,
     "metadata": {},
     "output_type": "execute_result"
    },
    {
     "data": {
      "image/png": "[encoded data removed]",
      "text/plain": [
       "<Figure size 720x432 with 1 Axes>"
      ]
     },
     "metadata": {
      "needs_background": "light"
     },
     "output_type": "display_data"
    }
   ],
   "source": [
    "import matplotlib.pyplot as plt\n",
    "plt.plot(df1)"
   ]
  },
  {
   "cell_type": "code",
   "execution_count": 6,
   "id": "e8c51f7e",
   "metadata": {},
   "outputs": [],
   "source": [
    "#LSTM is sensitive to the scale of the data, so we apply MinMax Scaler\n",
    "import numpy as np\n",
    "from sklearn.preprocessing import MinMaxScaler"
   ]
  },
  {
   "cell_type": "code",
   "execution_count": 7,
   "id": "cf73254c",
   "metadata": {},
   "outputs": [
    {
     "name": "stdout",
     "output_type": "stream",
     "text": [
      "[[0.84615385]\n",
      " [0.69230769]\n",
      " [0.57692308]\n",
      " [0.38461538]\n",
      " [0.34615385]\n",
      " [0.26923077]\n",
      " [0.30769231]\n",
      " [0.34615385]\n",
      " [0.42307692]\n",
      " [0.23076923]\n",
      " [0.07692308]\n",
      " [0.03846154]\n",
      " [0.03846154]\n",
      " [0.23076923]\n",
      " [0.46153846]\n",
      " [0.46153846]\n",
      " [0.26923077]\n",
      " [0.19230769]\n",
      " [0.15384615]\n",
      " [0.        ]\n",
      " [0.23076923]\n",
      " [0.61538462]\n",
      " [0.46153846]\n",
      " [0.26923077]\n",
      " [0.30769231]\n",
      " [0.19230769]\n",
      " [0.23076923]\n",
      " [0.42307692]\n",
      " [0.69230769]\n",
      " [0.65384615]\n",
      " [0.11538462]\n",
      " [0.07692308]\n",
      " [0.19230769]\n",
      " [0.30769231]\n",
      " [0.42307692]\n",
      " [0.46153846]\n",
      " [0.42307692]\n",
      " [0.07692308]\n",
      " [0.03846154]\n",
      " [0.15384615]\n",
      " [0.23076923]\n",
      " [0.69230769]\n",
      " [0.88461538]\n",
      " [1.        ]\n",
      " [0.65384615]\n",
      " [0.61538462]\n",
      " [0.46153846]\n",
      " [0.34615385]\n",
      " [0.5       ]\n",
      " [0.61538462]\n",
      " [0.53846154]\n",
      " [0.42307692]\n",
      " [0.38461538]\n",
      " [0.34615385]\n",
      " [0.26923077]\n",
      " [0.30769231]\n",
      " [0.38461538]\n",
      " [0.46153846]\n",
      " [0.42307692]\n",
      " [0.34615385]\n",
      " [0.30769231]\n",
      " [0.30769231]\n",
      " [0.46153846]\n",
      " [0.46153846]\n",
      " [0.42307692]\n",
      " [0.23076923]\n",
      " [0.30769231]\n",
      " [0.23076923]\n",
      " [0.34615385]\n",
      " [0.38461538]\n",
      " [0.46153846]\n",
      " [0.42307692]\n",
      " [0.38461538]\n",
      " [0.34615385]\n",
      " [0.26923077]\n",
      " [0.23076923]\n",
      " [0.34615385]\n",
      " [0.46153846]\n",
      " [0.53846154]\n",
      " [0.46153846]\n",
      " [0.26923077]\n",
      " [0.26923077]\n",
      " [0.19230769]\n",
      " [0.23076923]\n",
      " [0.30769231]\n",
      " [0.42307692]\n",
      " [0.38461538]\n",
      " [0.34615385]\n",
      " [0.30769231]\n",
      " [0.34615385]\n",
      " [0.38461538]\n",
      " [0.53846154]\n",
      " [0.57692308]]\n"
     ]
    }
   ],
   "source": [
    "scaler = MinMaxScaler(feature_range = (0,1))\n",
    "df1 = scaler.fit_transform(np.array(df1).reshape(-1,1))\n",
    "print(df1)"
   ]
  },
  {
   "cell_type": "code",
   "execution_count": 8,
   "id": "62fe3346",
   "metadata": {},
   "outputs": [
    {
     "data": {
      "text/plain": [
       "(65, 28)"
      ]
     },
     "execution_count": 8,
     "metadata": {},
     "output_type": "execute_result"
    }
   ],
   "source": [
    "#Splitting the data into train and test split\n",
    "training_size = int(len(df1)*0.70)\n",
    "test_size = len(df)-training_size\n",
    "train_data, test_data = df1[0:training_size,:], df1[training_size:len(df1),:1]\n",
    "training_size, test_size"
   ]
  },
  {
   "cell_type": "code",
   "execution_count": 9,
   "id": "13922473",
   "metadata": {},
   "outputs": [
    {
     "data": {
      "text/plain": [
       "array([[0.84615385],\n",
       "       [0.69230769],\n",
       "       [0.57692308],\n",
       "       [0.38461538],\n",
       "       [0.34615385],\n",
       "       [0.26923077],\n",
       "       [0.30769231],\n",
       "       [0.34615385],\n",
       "       [0.42307692],\n",
       "       [0.23076923],\n",
       "       [0.07692308],\n",
       "       [0.03846154],\n",
       "       [0.03846154],\n",
       "       [0.23076923],\n",
       "       [0.46153846],\n",
       "       [0.46153846],\n",
       "       [0.26923077],\n",
       "       [0.19230769],\n",
       "       [0.15384615],\n",
       "       [0.        ],\n",
       "       [0.23076923],\n",
       "       [0.61538462],\n",
       "       [0.46153846],\n",
       "       [0.26923077],\n",
       "       [0.30769231],\n",
       "       [0.19230769],\n",
       "       [0.23076923],\n",
       "       [0.42307692],\n",
       "       [0.69230769],\n",
       "       [0.65384615],\n",
       "       [0.11538462],\n",
       "       [0.07692308],\n",
       "       [0.19230769],\n",
       "       [0.30769231],\n",
       "       [0.42307692],\n",
       "       [0.46153846],\n",
       "       [0.42307692],\n",
       "       [0.07692308],\n",
       "       [0.03846154],\n",
       "       [0.15384615],\n",
       "       [0.23076923],\n",
       "       [0.69230769],\n",
       "       [0.88461538],\n",
       "       [1.        ],\n",
       "       [0.65384615],\n",
       "       [0.61538462],\n",
       "       [0.46153846],\n",
       "       [0.34615385],\n",
       "       [0.5       ],\n",
       "       [0.61538462],\n",
       "       [0.53846154],\n",
       "       [0.42307692],\n",
       "       [0.38461538],\n",
       "       [0.34615385],\n",
       "       [0.26923077],\n",
       "       [0.30769231],\n",
       "       [0.38461538],\n",
       "       [0.46153846],\n",
       "       [0.42307692],\n",
       "       [0.34615385],\n",
       "       [0.30769231],\n",
       "       [0.30769231],\n",
       "       [0.46153846],\n",
       "       [0.46153846],\n",
       "       [0.42307692]])"
      ]
     },
     "execution_count": 9,
     "metadata": {},
     "output_type": "execute_result"
    }
   ],
   "source": [
    "train_data"
   ]
  },
  {
   "cell_type": "code",
   "execution_count": 10,
   "id": "10ad7431",
   "metadata": {},
   "outputs": [],
   "source": [
    "import numpy\n",
    "#Convert an array of values into a dataset matrix\n",
    "def create_dataset(dataset, time_step=1):\n",
    "    dataX, dataY = [], []\n",
    "    for i in range (len(dataset)-time_step-1):\n",
    "        a = dataset[i:(i+time_step), 0]   #i=0, 0,1,2,3----9   10\n",
    "        dataX.append(a)\n",
    "        dataY.append(dataset[i + time_step, 0])\n",
    "    return numpy.array(dataX), numpy.array(dataY)"
   ]
  },
  {
   "cell_type": "code",
   "execution_count": 11,
   "id": "d55cd3a8",
   "metadata": {},
   "outputs": [],
   "source": [
    "#Reshape into X=t, t+1, t+2, t+3, and Y=t+4\n",
    "time_step = 10\n",
    "X_train, y_train = create_dataset(train_data, time_step)\n",
    "X_test, ytest = create_dataset(test_data, time_step)"
   ]
  },
  {
   "cell_type": "code",
   "execution_count": 12,
   "id": "6e74c51a",
   "metadata": {},
   "outputs": [
    {
     "name": "stdout",
     "output_type": "stream",
     "text": [
      "(54, 10)\n",
      "(54,)\n"
     ]
    },
    {
     "data": {
      "text/plain": [
       "(None, None)"
      ]
     },
     "execution_count": 12,
     "metadata": {},
     "output_type": "execute_result"
    }
   ],
   "source": [
    "print(X_train.shape), print(y_train.shape)"
   ]
  },
  {
   "cell_type": "code",
   "execution_count": 13,
   "id": "8c066bf0",
   "metadata": {},
   "outputs": [
    {
     "name": "stdout",
     "output_type": "stream",
     "text": [
      "(17, 10)\n",
      "(17,)\n"
     ]
    },
    {
     "data": {
      "text/plain": [
       "(None, None)"
      ]
     },
     "execution_count": 13,
     "metadata": {},
     "output_type": "execute_result"
    }
   ],
   "source": [
    "print(X_test.shape), print(ytest.shape)"
   ]
  },
  {
   "cell_type": "code",
   "execution_count": 14,
   "id": "7ca792a7",
   "metadata": {},
   "outputs": [],
   "source": [
    "#Reshape input to be [samples, time_steps, features] which is required for LSTM\n",
    "X_train = X_train.reshape(X_train.shape[0], X_train.shape[1], 1)\n",
    "X_test = X_test.reshape(X_test.shape[0], X_test.shape[1], 1)"
   ]
  },
  {
   "cell_type": "code",
   "execution_count": 15,
   "id": "faa3672e",
   "metadata": {
    "scrolled": true
   },
   "outputs": [],
   "source": [
    "#Create the stacked LSTM Model\n",
    "from tensorflow.keras.models import Sequential\n",
    "from tensorflow.keras.layers import Dense\n",
    "from tensorflow.keras.layers import LSTM"
   ]
  },
  {
   "cell_type": "code",
   "execution_count": 16,
   "id": "a55c8830",
   "metadata": {},
   "outputs": [],
   "source": [
    "model = Sequential()\n",
    "model.add(LSTM(50, return_sequences=True, input_shape=(10,1)))\n",
    "model.add(LSTM(50, return_sequences=True))\n",
    "model.add(LSTM(50))\n",
    "model.add(Dense(1))\n",
    "model.compile(loss='mean_squared_error', optimizer='adam')"
   ]
  },
  {
   "cell_type": "code",
   "execution_count": 17,
   "id": "e7a94310",
   "metadata": {},
   "outputs": [
    {
     "name": "stdout",
     "output_type": "stream",
     "text": [
      "Model: \"sequential\"\n",
      "_________________________________________________________________\n",
      "Layer (type)                 Output Shape              Param #   \n",
      "=================================================================\n",
      "lstm (LSTM)                  (None, 10, 50)            10400     \n",
      "_________________________________________________________________\n",
      "lstm_1 (LSTM)                (None, 10, 50)            20200     \n",
      "_________________________________________________________________\n",
      "lstm_2 (LSTM)                (None, 50)                20200     \n",
      "_________________________________________________________________\n",
      "dense (Dense)                (None, 1)                 51        \n",
      "=================================================================\n",
      "Total params: 50,851\n",
      "Trainable params: 50,851\n",
      "Non-trainable params: 0\n",
      "_________________________________________________________________\n"
     ]
    }
   ],
   "source": [
    "model.summary()"
   ]
  },
  {
   "cell_type": "code",
   "execution_count": 35,
   "id": "ad46f009",
   "metadata": {},
   "outputs": [
    {
     "name": "stdout",
     "output_type": "stream",
     "text": [
      "Epoch 1/10\n",
      "54/54 [==============================] - 1s 16ms/step - loss: 0.0249 - val_loss: 0.0179\n",
      "Epoch 2/10\n",
      "54/54 [==============================] - 1s 16ms/step - loss: 0.0279 - val_loss: 0.0210\n",
      "Epoch 3/10\n",
      "54/54 [==============================] - 1s 11ms/step - loss: 0.0227 - val_loss: 0.0241\n",
      "Epoch 4/10\n",
      "54/54 [==============================] - 1s 15ms/step - loss: 0.0256 - val_loss: 0.0132\n",
      "Epoch 5/10\n",
      "54/54 [==============================] - 1s 16ms/step - loss: 0.0235 - val_loss: 0.0220\n",
      "Epoch 6/10\n",
      "54/54 [==============================] - 1s 16ms/step - loss: 0.0219 - val_loss: 0.0156\n",
      "Epoch 7/10\n",
      "54/54 [==============================] - 1s 17ms/step - loss: 0.0192 - val_loss: 0.0167\n",
      "Epoch 8/10\n",
      "54/54 [==============================] - 1s 12ms/step - loss: 0.0248 - val_loss: 0.0187\n",
      "Epoch 9/10\n",
      "54/54 [==============================] - 1s 11ms/step - loss: 0.0207 - val_loss: 0.0120\n",
      "Epoch 10/10\n",
      "54/54 [==============================] - 1s 11ms/step - loss: 0.0172 - val_loss: 0.0150\n"
     ]
    },
    {
     "data": {
      "text/plain": [
       "<keras.callbacks.History at 0x2d938b90dc0>"
      ]
     },
     "execution_count": 35,
     "metadata": {},
     "output_type": "execute_result"
    }
   ],
   "source": [
    "model.fit(X_train, y_train, validation_data=(X_test, ytest), epochs=10, batch_size=1, verbose=1)"
   ]
  },
  {
   "cell_type": "code",
   "execution_count": 36,
   "id": "9c5fae49",
   "metadata": {},
   "outputs": [],
   "source": [
    "import tensorflow as tf"
   ]
  },
  {
   "cell_type": "code",
   "execution_count": 37,
   "id": "5bb07727",
   "metadata": {},
   "outputs": [],
   "source": [
    "#Do the prediction and check performance metrics\n",
    "train_predict = model.predict(X_train)\n",
    "test_predict = model.predict(X_test)"
   ]
  },
  {
   "cell_type": "code",
   "execution_count": 38,
   "id": "cd8d11e2",
   "metadata": {},
   "outputs": [],
   "source": [
    "#Transformback to original form\n",
    "train_predict = scaler.inverse_transform(train_predict)\n",
    "test_predict = scaler.inverse_transform(test_predict)"
   ]
  },
  {
   "cell_type": "code",
   "execution_count": 39,
   "id": "4a8f33f4",
   "metadata": {},
   "outputs": [
    {
     "data": {
      "text/plain": [
       "220621.26605080938"
      ]
     },
     "execution_count": 39,
     "metadata": {},
     "output_type": "execute_result"
    }
   ],
   "source": [
    "#Calculate RSME perfomance metrics\n",
    "import math\n",
    "from sklearn.metrics import mean_squared_error\n",
    "math.sqrt(mean_squared_error(y_train, train_predict))"
   ]
  },
  {
   "cell_type": "code",
   "execution_count": 40,
   "id": "a1904b1a",
   "metadata": {},
   "outputs": [
    {
     "data": {
      "text/plain": [
       "218334.4951148939"
      ]
     },
     "execution_count": 40,
     "metadata": {},
     "output_type": "execute_result"
    }
   ],
   "source": [
    "#Test data RSME\n",
    "math.sqrt(mean_squared_error(ytest, test_predict))"
   ]
  },
  {
   "cell_type": "code",
   "execution_count": 41,
   "id": "fc00a958",
   "metadata": {},
   "outputs": [
    {
     "data": {
      "image/png": "[encoded data removed]",
      "text/plain": [
       "<Figure size 720x432 with 1 Axes>"
      ]
     },
     "metadata": {
      "needs_background": "light"
     },
     "output_type": "display_data"
    }
   ],
   "source": [
    "###Plotting\n",
    "#Shift train prediction for plotting\n",
    "look_back = 10\n",
    "trainPredictPlot = numpy.empty_like(df1)\n",
    "trainPredictPlot[:, :] = np.nan\n",
    "trainPredictPlot[look_back: len(train_predict)+look_back, :] = train_predict\n",
    "#Shift test prediction for plotting\n",
    "testPredictPlot = numpy.empty_like(df1)\n",
    "testPredictPlot[:, :] = numpy.nan\n",
    "testPredictPlot[len(train_predict)+(look_back*2)+1:len(df1)-1, :] = test_predict\n",
    "#Plot baseline and predictions\n",
    "plt.plot(scaler.inverse_transform(df1))\n",
    "plt.plot(trainPredictPlot, label='Train Data')\n",
    "plt.plot(testPredictPlot, label='Test Data')\n",
    "plt.legend(loc='best')\n",
    "plt.show()"
   ]
  },
  {
   "cell_type": "code",
   "execution_count": 42,
   "id": "dc15df56",
   "metadata": {},
   "outputs": [
    {
     "data": {
      "text/plain": [
       "28"
      ]
     },
     "execution_count": 42,
     "metadata": {},
     "output_type": "execute_result"
    }
   ],
   "source": [
    "len(test_data)"
   ]
  },
  {
   "cell_type": "code",
   "execution_count": 43,
   "id": "380aa5d1",
   "metadata": {},
   "outputs": [
    {
     "data": {
      "text/plain": [
       "(1, 10)"
      ]
     },
     "execution_count": 43,
     "metadata": {},
     "output_type": "execute_result"
    }
   ],
   "source": [
    "x_input = test_data[18:].reshape(1,-1)\n",
    "x_input.shape"
   ]
  },
  {
   "cell_type": "code",
   "execution_count": 44,
   "id": "19705521",
   "metadata": {},
   "outputs": [
    {
     "data": {
      "text/plain": [
       "[0.23076923076923075,\n",
       " 0.3076923076923077,\n",
       " 0.423076923076923,\n",
       " 0.3846153846153846,\n",
       " 0.34615384615384615,\n",
       " 0.3076923076923077,\n",
       " 0.34615384615384615,\n",
       " 0.3846153846153846,\n",
       " 0.5384615384615384,\n",
       " 0.5769230769230769]"
      ]
     },
     "execution_count": 44,
     "metadata": {},
     "output_type": "execute_result"
    }
   ],
   "source": [
    "temp_input=list(x_input)\n",
    "temp_input=temp_input[0].tolist()\n",
    "temp_input"
   ]
  },
  {
   "cell_type": "code",
   "execution_count": 45,
   "id": "b8756283",
   "metadata": {},
   "outputs": [
    {
     "name": "stdout",
     "output_type": "stream",
     "text": [
      "[0.5501781]\n",
      "11\n",
      "1 day input [0.30769231 0.42307692 0.38461538 0.34615385 0.30769231 0.34615385\n",
      " 0.38461538 0.53846154 0.57692308 0.55017811]\n",
      "1 day output [[0.48319417]]\n",
      "2 day input [0.42307692 0.38461538 0.34615385 0.30769231 0.34615385 0.38461538\n",
      " 0.53846154 0.57692308 0.55017811 0.48319417]\n",
      "2 day output [[0.41911036]]\n",
      "3 day input [0.38461538 0.34615385 0.30769231 0.34615385 0.38461538 0.53846154\n",
      " 0.57692308 0.55017811 0.48319417 0.41911036]\n",
      "3 day output [[0.4363044]]\n",
      "4 day input [0.34615385 0.30769231 0.34615385 0.38461538 0.53846154 0.57692308\n",
      " 0.55017811 0.48319417 0.41911036 0.43630439]\n",
      "4 day output [[0.4865558]]\n",
      "5 day input [0.30769231 0.34615385 0.38461538 0.53846154 0.57692308 0.55017811\n",
      " 0.48319417 0.41911036 0.43630439 0.48655581]\n",
      "5 day output [[0.52494097]]\n",
      "6 day input [0.34615385 0.38461538 0.53846154 0.57692308 0.55017811 0.48319417\n",
      " 0.41911036 0.43630439 0.48655581 0.52494097]\n",
      "6 day output [[0.5015353]]\n",
      "7 day input [0.38461538 0.53846154 0.57692308 0.55017811 0.48319417 0.41911036\n",
      " 0.43630439 0.48655581 0.52494097 0.5015353 ]\n",
      "7 day output [[0.44002676]]\n",
      "8 day input [0.53846154 0.57692308 0.55017811 0.48319417 0.41911036 0.43630439\n",
      " 0.48655581 0.52494097 0.5015353  0.44002676]\n",
      "8 day output [[0.34355718]]\n",
      "9 day input [0.57692308 0.55017811 0.48319417 0.41911036 0.43630439 0.48655581\n",
      " 0.52494097 0.5015353  0.44002676 0.34355718]\n",
      "9 day output [[0.29844058]]\n",
      "[[0.5501781105995178], [0.48319417238235474], [0.41911035776138306], [0.43630439043045044], [0.486555814743042], [0.5249409675598145], [0.5015352964401245], [0.44002676010131836], [0.3435571789741516], [0.2984405755996704]]\n"
     ]
    }
   ],
   "source": [
    "#Demonstrate prediction next 10 days\n",
    "from numpy import array\n",
    "lst_output = []\n",
    "n_steps = 10\n",
    "i = 0\n",
    "while(i<10):\n",
    "    if (len(temp_input)>10):\n",
    "        #print temp_input\n",
    "        x_input=np.array(temp_input[1:])\n",
    "        print(\"{} day input {}\".format(i,x_input))\n",
    "        x_input=x_input.reshape(1,-1)\n",
    "        x_input=x_input.reshape((1, n_steps, 1))\n",
    "        #print x_input\n",
    "        yhat = model.predict(x_input, verbose=0)\n",
    "        print(\"{} day output {}\".format(i,yhat))\n",
    "        temp_input.extend(yhat[0].tolist())\n",
    "        temp_input=temp_input[1:]\n",
    "        #print temp_input\n",
    "        lst_output.extend(yhat.tolist())\n",
    "        i=i+1\n",
    "    else:\n",
    "        x_input = x_input.reshape((1, n_steps, 1))\n",
    "        yhat = model.predict(x_input, verbose=0)\n",
    "        print(yhat[0])\n",
    "        temp_input.extend(yhat[0].tolist())\n",
    "        print(len(temp_input))\n",
    "        lst_output.extend(yhat.tolist())\n",
    "        i=i+1\n",
    "\n",
    "print(lst_output)"
   ]
  },
  {
   "cell_type": "code",
   "execution_count": 46,
   "id": "1a8846ed",
   "metadata": {},
   "outputs": [],
   "source": [
    "day_new = np.arange(1,11)\n",
    "day_pred = np.arange(11,21)"
   ]
  },
  {
   "cell_type": "code",
   "execution_count": 47,
   "id": "0ac6e3e6",
   "metadata": {},
   "outputs": [],
   "source": [
    "import matplotlib.pyplot as plt"
   ]
  },
  {
   "cell_type": "code",
   "execution_count": 48,
   "id": "5bbb742e",
   "metadata": {},
   "outputs": [
    {
     "data": {
      "text/plain": [
       "93"
      ]
     },
     "execution_count": 48,
     "metadata": {},
     "output_type": "execute_result"
    }
   ],
   "source": [
    "len(df1)"
   ]
  },
  {
   "cell_type": "code",
   "execution_count": 32,
   "id": "cfb21bbe",
   "metadata": {},
   "outputs": [],
   "source": [
    "# df3=df1.tolist()\n",
    "# df3.extend(lst_output)"
   ]
  },
  {
   "cell_type": "code",
   "execution_count": 49,
   "id": "5361d8ab",
   "metadata": {},
   "outputs": [
    {
     "data": {
      "text/plain": [
       "[<matplotlib.lines.Line2D at 0x2d938c98c10>]"
      ]
     },
     "execution_count": 49,
     "metadata": {},
     "output_type": "execute_result"
    },
    {
     "data": {
      "image/png": "[encoded data removed]",
      "text/plain": [
       "<Figure size 720x432 with 1 Axes>"
      ]
     },
     "metadata": {
      "needs_background": "light"
     },
     "output_type": "display_data"
    }
   ],
   "source": [
    "plt.plot(day_new, scaler.inverse_transform(df1[83:]))\n",
    "plt.plot(day_pred, scaler.inverse_transform(lst_output))"
   ]
  },
  {
   "cell_type": "code",
   "execution_count": 50,
   "id": "1e0e6e72",
   "metadata": {},
   "outputs": [
    {
     "data": {
      "text/plain": [
       "[<matplotlib.lines.Line2D at 0x2d938c995b0>]"
      ]
     },
     "execution_count": 50,
     "metadata": {},
     "output_type": "execute_result"
    },
    {
     "data": {
      "image/png": "[encoded data removed]",
      "text/plain": [
       "<Figure size 720x432 with 1 Axes>"
      ]
     },
     "metadata": {
      "needs_background": "light"
     },
     "output_type": "display_data"
    }
   ],
   "source": [
    "df3=df1.tolist()\n",
    "df3.extend(lst_output)\n",
    "plt.plot(df3[30:])"
   ]
  }
 ],
 "metadata": {
  "kernelspec": {
   "display_name": "Python 3 (ipykernel)",
   "language": "python",
   "name": "python3"
  },
  "language_info": {
   "codemirror_mode": {
    "name": "ipython",
    "version": 3
   },
   "file_extension": ".py",
   "mimetype": "text/x-python",
   "name": "python",
   "nbconvert_exporter": "python",
   "pygments_lexer": "ipython3",
   "version": "3.8.5"
  }
 },
 "nbformat": 4,
 "nbformat_minor": 5
}
