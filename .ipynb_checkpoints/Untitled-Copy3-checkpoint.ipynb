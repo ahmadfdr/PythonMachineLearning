{
 "cells": [
  {
   "cell_type": "code",
   "execution_count": 1,
   "id": "329463b4",
   "metadata": {},
   "outputs": [],
   "source": [
    "import pandas as pd\n",
    "from matplotlib.pylab import rcParams\n",
    "rcParams['figure.figsize'] = 10,6"
   ]
  },
  {
   "cell_type": "code",
   "execution_count": 2,
   "id": "01ce2498",
   "metadata": {},
   "outputs": [
    {
     "data": {
      "text/html": [
       "<div>\n",
       "<style scoped>\n",
       "    .dataframe tbody tr th:only-of-type {\n",
       "        vertical-align: middle;\n",
       "    }\n",
       "\n",
       "    .dataframe tbody tr th {\n",
       "        vertical-align: top;\n",
       "    }\n",
       "\n",
       "    .dataframe thead th {\n",
       "        text-align: right;\n",
       "    }\n",
       "</style>\n",
       "<table border=\"1\" class=\"dataframe\">\n",
       "  <thead>\n",
       "    <tr style=\"text-align: right;\">\n",
       "      <th></th>\n",
       "      <th>Tanggal</th>\n",
       "      <th>Jumlah Cup yang Terjual</th>\n",
       "      <th>Penjualan Kopi Susu</th>\n",
       "    </tr>\n",
       "  </thead>\n",
       "  <tbody>\n",
       "    <tr>\n",
       "      <th>0</th>\n",
       "      <td>2021-05-01</td>\n",
       "      <td>14</td>\n",
       "      <td>210000</td>\n",
       "    </tr>\n",
       "    <tr>\n",
       "      <th>1</th>\n",
       "      <td>2021-05-02</td>\n",
       "      <td>13</td>\n",
       "      <td>195000</td>\n",
       "    </tr>\n",
       "    <tr>\n",
       "      <th>2</th>\n",
       "      <td>2021-05-03</td>\n",
       "      <td>12</td>\n",
       "      <td>180000</td>\n",
       "    </tr>\n",
       "    <tr>\n",
       "      <th>3</th>\n",
       "      <td>2021-05-04</td>\n",
       "      <td>11</td>\n",
       "      <td>165000</td>\n",
       "    </tr>\n",
       "    <tr>\n",
       "      <th>4</th>\n",
       "      <td>2021-05-05</td>\n",
       "      <td>11</td>\n",
       "      <td>165000</td>\n",
       "    </tr>\n",
       "    <tr>\n",
       "      <th>...</th>\n",
       "      <td>...</td>\n",
       "      <td>...</td>\n",
       "      <td>...</td>\n",
       "    </tr>\n",
       "    <tr>\n",
       "      <th>87</th>\n",
       "      <td>2021-07-27</td>\n",
       "      <td>13</td>\n",
       "      <td>195000</td>\n",
       "    </tr>\n",
       "    <tr>\n",
       "      <th>88</th>\n",
       "      <td>2021-07-28</td>\n",
       "      <td>12</td>\n",
       "      <td>180000</td>\n",
       "    </tr>\n",
       "    <tr>\n",
       "      <th>89</th>\n",
       "      <td>2021-07-29</td>\n",
       "      <td>13</td>\n",
       "      <td>195000</td>\n",
       "    </tr>\n",
       "    <tr>\n",
       "      <th>90</th>\n",
       "      <td>2021-07-30</td>\n",
       "      <td>14</td>\n",
       "      <td>210000</td>\n",
       "    </tr>\n",
       "    <tr>\n",
       "      <th>91</th>\n",
       "      <td>2021-07-31</td>\n",
       "      <td>13</td>\n",
       "      <td>195000</td>\n",
       "    </tr>\n",
       "  </tbody>\n",
       "</table>\n",
       "<p>92 rows × 3 columns</p>\n",
       "</div>"
      ],
      "text/plain": [
       "      Tanggal  Jumlah Cup yang Terjual  Penjualan Kopi Susu\n",
       "0  2021-05-01                       14               210000\n",
       "1  2021-05-02                       13               195000\n",
       "2  2021-05-03                       12               180000\n",
       "3  2021-05-04                       11               165000\n",
       "4  2021-05-05                       11               165000\n",
       "..        ...                      ...                  ...\n",
       "87 2021-07-27                       13               195000\n",
       "88 2021-07-28                       12               180000\n",
       "89 2021-07-29                       13               195000\n",
       "90 2021-07-30                       14               210000\n",
       "91 2021-07-31                       13               195000\n",
       "\n",
       "[92 rows x 3 columns]"
      ]
     },
     "execution_count": 2,
     "metadata": {},
     "output_type": "execute_result"
    }
   ],
   "source": [
    "df = pd.read_excel('TKTK.xlsx', sheet_name='KOPI SUSU')\n",
    "df"
   ]
  },
  {
   "cell_type": "code",
   "execution_count": 3,
   "id": "28568540",
   "metadata": {},
   "outputs": [
    {
     "data": {
      "text/plain": [
       "(92, 3)"
      ]
     },
     "execution_count": 3,
     "metadata": {},
     "output_type": "execute_result"
    }
   ],
   "source": [
    "df.shape"
   ]
  },
  {
   "cell_type": "code",
   "execution_count": 4,
   "id": "8b6226d5",
   "metadata": {},
   "outputs": [
    {
     "data": {
      "text/plain": [
       "0     210000\n",
       "1     195000\n",
       "2     180000\n",
       "3     165000\n",
       "4     165000\n",
       "       ...  \n",
       "87    195000\n",
       "88    180000\n",
       "89    195000\n",
       "90    210000\n",
       "91    195000\n",
       "Name: Penjualan Kopi Susu, Length: 92, dtype: int64"
      ]
     },
     "execution_count": 4,
     "metadata": {},
     "output_type": "execute_result"
    }
   ],
   "source": [
    "df1 = df.reset_index()['Penjualan Kopi Susu']\n",
    "df1"
   ]
  },
  {
   "cell_type": "code",
   "execution_count": 5,
   "id": "d23ad258",
   "metadata": {},
   "outputs": [
    {
     "data": {
      "text/plain": [
       "[<matplotlib.lines.Line2D at 0x1fa4a1fed30>]"
      ]
     },
     "execution_count": 5,
     "metadata": {},
     "output_type": "execute_result"
    },
    {
     "data": {
      "image/png": "[encoded data removed]",
      "text/plain": [
       "<Figure size 720x432 with 1 Axes>"
      ]
     },
     "metadata": {
      "needs_background": "light"
     },
     "output_type": "display_data"
    }
   ],
   "source": [
    "import matplotlib.pyplot as plt\n",
    "plt.plot(df1)"
   ]
  },
  {
   "cell_type": "code",
   "execution_count": 6,
   "id": "e8c51f7e",
   "metadata": {},
   "outputs": [],
   "source": [
    "#LSTM is sensitive to the scale of the data, so we apply MinMax Scaler\n",
    "import numpy as np\n",
    "from sklearn.preprocessing import MinMaxScaler"
   ]
  },
  {
   "cell_type": "code",
   "execution_count": 7,
   "id": "cf73254c",
   "metadata": {},
   "outputs": [
    {
     "name": "stdout",
     "output_type": "stream",
     "text": [
      "[[0.38461538]\n",
      " [0.34615385]\n",
      " [0.30769231]\n",
      " [0.26923077]\n",
      " [0.26923077]\n",
      " [0.19230769]\n",
      " [0.23076923]\n",
      " [0.42307692]\n",
      " [0.46153846]\n",
      " [0.38461538]\n",
      " [0.42307692]\n",
      " [0.38461538]\n",
      " [0.34615385]\n",
      " [0.42307692]\n",
      " [0.46153846]\n",
      " [0.38461538]\n",
      " [0.34615385]\n",
      " [0.19230769]\n",
      " [0.15384615]\n",
      " [0.11538462]\n",
      " [0.23076923]\n",
      " [0.38461538]\n",
      " [0.42307692]\n",
      " [0.26923077]\n",
      " [0.30769231]\n",
      " [0.19230769]\n",
      " [0.23076923]\n",
      " [0.34615385]\n",
      " [0.5       ]\n",
      " [0.46153846]\n",
      " [0.23076923]\n",
      " [0.19230769]\n",
      " [0.19230769]\n",
      " [0.30769231]\n",
      " [0.42307692]\n",
      " [0.46153846]\n",
      " [0.46153846]\n",
      " [0.53846154]\n",
      " [0.5       ]\n",
      " [0.53846154]\n",
      " [0.61538462]\n",
      " [0.92307692]\n",
      " [1.        ]\n",
      " [0.88461538]\n",
      " [0.65384615]\n",
      " [0.61538462]\n",
      " [0.46153846]\n",
      " [0.42307692]\n",
      " [0.5       ]\n",
      " [0.61538462]\n",
      " [0.5       ]\n",
      " [0.42307692]\n",
      " [0.38461538]\n",
      " [0.34615385]\n",
      " [0.26923077]\n",
      " [0.30769231]\n",
      " [0.38461538]\n",
      " [0.46153846]\n",
      " [0.42307692]\n",
      " [0.34615385]\n",
      " [0.30769231]\n",
      " [0.30769231]\n",
      " [0.46153846]\n",
      " [0.34615385]\n",
      " [0.30769231]\n",
      " [0.23076923]\n",
      " [0.19230769]\n",
      " [0.15384615]\n",
      " [0.11538462]\n",
      " [0.07692308]\n",
      " [0.11538462]\n",
      " [0.15384615]\n",
      " [0.07692308]\n",
      " [0.03846154]\n",
      " [0.        ]\n",
      " [0.03846154]\n",
      " [0.11538462]\n",
      " [0.19230769]\n",
      " [0.15384615]\n",
      " [0.07692308]\n",
      " [0.15384615]\n",
      " [0.30769231]\n",
      " [0.34615385]\n",
      " [0.42307692]\n",
      " [0.46153846]\n",
      " [0.5       ]\n",
      " [0.38461538]\n",
      " [0.34615385]\n",
      " [0.30769231]\n",
      " [0.34615385]\n",
      " [0.38461538]\n",
      " [0.34615385]]\n"
     ]
    }
   ],
   "source": [
    "scaler = MinMaxScaler(feature_range = (0,1))\n",
    "df1 = scaler.fit_transform(np.array(df1).reshape(-1,1))\n",
    "print(df1)"
   ]
  },
  {
   "cell_type": "code",
   "execution_count": 8,
   "id": "62fe3346",
   "metadata": {},
   "outputs": [
    {
     "data": {
      "text/plain": [
       "(64, 28)"
      ]
     },
     "execution_count": 8,
     "metadata": {},
     "output_type": "execute_result"
    }
   ],
   "source": [
    "#Splitting the data into train and test split\n",
    "training_size = int(len(df1)*0.70)\n",
    "test_size = len(df)-training_size\n",
    "train_data, test_data = df1[0:training_size,:], df1[training_size:len(df1),:1]\n",
    "training_size, test_size"
   ]
  },
  {
   "cell_type": "code",
   "execution_count": 9,
   "id": "13922473",
   "metadata": {},
   "outputs": [
    {
     "data": {
      "text/plain": [
       "array([[0.38461538],\n",
       "       [0.34615385],\n",
       "       [0.30769231],\n",
       "       [0.26923077],\n",
       "       [0.26923077],\n",
       "       [0.19230769],\n",
       "       [0.23076923],\n",
       "       [0.42307692],\n",
       "       [0.46153846],\n",
       "       [0.38461538],\n",
       "       [0.42307692],\n",
       "       [0.38461538],\n",
       "       [0.34615385],\n",
       "       [0.42307692],\n",
       "       [0.46153846],\n",
       "       [0.38461538],\n",
       "       [0.34615385],\n",
       "       [0.19230769],\n",
       "       [0.15384615],\n",
       "       [0.11538462],\n",
       "       [0.23076923],\n",
       "       [0.38461538],\n",
       "       [0.42307692],\n",
       "       [0.26923077],\n",
       "       [0.30769231],\n",
       "       [0.19230769],\n",
       "       [0.23076923],\n",
       "       [0.34615385],\n",
       "       [0.5       ],\n",
       "       [0.46153846],\n",
       "       [0.23076923],\n",
       "       [0.19230769],\n",
       "       [0.19230769],\n",
       "       [0.30769231],\n",
       "       [0.42307692],\n",
       "       [0.46153846],\n",
       "       [0.46153846],\n",
       "       [0.53846154],\n",
       "       [0.5       ],\n",
       "       [0.53846154],\n",
       "       [0.61538462],\n",
       "       [0.92307692],\n",
       "       [1.        ],\n",
       "       [0.88461538],\n",
       "       [0.65384615],\n",
       "       [0.61538462],\n",
       "       [0.46153846],\n",
       "       [0.42307692],\n",
       "       [0.5       ],\n",
       "       [0.61538462],\n",
       "       [0.5       ],\n",
       "       [0.42307692],\n",
       "       [0.38461538],\n",
       "       [0.34615385],\n",
       "       [0.26923077],\n",
       "       [0.30769231],\n",
       "       [0.38461538],\n",
       "       [0.46153846],\n",
       "       [0.42307692],\n",
       "       [0.34615385],\n",
       "       [0.30769231],\n",
       "       [0.30769231],\n",
       "       [0.46153846],\n",
       "       [0.34615385]])"
      ]
     },
     "execution_count": 9,
     "metadata": {},
     "output_type": "execute_result"
    }
   ],
   "source": [
    "train_data"
   ]
  },
  {
   "cell_type": "code",
   "execution_count": 10,
   "id": "10ad7431",
   "metadata": {},
   "outputs": [],
   "source": [
    "import numpy\n",
    "#Convert an array of values into a dataset matrix\n",
    "def create_dataset(dataset, time_step=1):\n",
    "    dataX, dataY = [], []\n",
    "    for i in range (len(dataset)-time_step-1):\n",
    "        a = dataset[i:(i+time_step), 0]   #i=0, 0,1,2,3----9   10\n",
    "        dataX.append(a)\n",
    "        dataY.append(dataset[i + time_step, 0])\n",
    "    return numpy.array(dataX), numpy.array(dataY)"
   ]
  },
  {
   "cell_type": "code",
   "execution_count": 11,
   "id": "d55cd3a8",
   "metadata": {},
   "outputs": [],
   "source": [
    "#Reshape into X=t, t+1, t+2, t+3, and Y=t+4\n",
    "time_step = 2\n",
    "X_train, y_train = create_dataset(train_data, time_step)\n",
    "X_test, ytest = create_dataset(test_data, time_step)"
   ]
  },
  {
   "cell_type": "code",
   "execution_count": 12,
   "id": "6e74c51a",
   "metadata": {},
   "outputs": [
    {
     "name": "stdout",
     "output_type": "stream",
     "text": [
      "(61, 2)\n",
      "(61,)\n"
     ]
    },
    {
     "data": {
      "text/plain": [
       "(None, None)"
      ]
     },
     "execution_count": 12,
     "metadata": {},
     "output_type": "execute_result"
    }
   ],
   "source": [
    "print(X_train.shape), print(y_train.shape)"
   ]
  },
  {
   "cell_type": "code",
   "execution_count": 13,
   "id": "8c066bf0",
   "metadata": {},
   "outputs": [
    {
     "name": "stdout",
     "output_type": "stream",
     "text": [
      "(25, 2)\n",
      "(25,)\n"
     ]
    },
    {
     "data": {
      "text/plain": [
       "(None, None)"
      ]
     },
     "execution_count": 13,
     "metadata": {},
     "output_type": "execute_result"
    }
   ],
   "source": [
    "print(X_test.shape), print(ytest.shape)"
   ]
  },
  {
   "cell_type": "code",
   "execution_count": 14,
   "id": "7ca792a7",
   "metadata": {},
   "outputs": [],
   "source": [
    "#Reshape input to be [samples, time_steps, features] which is required for LSTM\n",
    "X_train = X_train.reshape(X_train.shape[0], X_train.shape[1], 1)\n",
    "X_test = X_test.reshape(X_test.shape[0], X_test.shape[1], 1)"
   ]
  },
  {
   "cell_type": "code",
   "execution_count": 15,
   "id": "faa3672e",
   "metadata": {
    "scrolled": true
   },
   "outputs": [],
   "source": [
    "#Create the stacked LSTM Model\n",
    "from tensorflow.keras.models import Sequential\n",
    "from tensorflow.keras.layers import Dense\n",
    "from tensorflow.keras.layers import LSTM"
   ]
  },
  {
   "cell_type": "code",
   "execution_count": 16,
   "id": "a55c8830",
   "metadata": {},
   "outputs": [],
   "source": [
    "model = Sequential()\n",
    "model.add(LSTM(50, return_sequences=True, input_shape=(2,1)))\n",
    "model.add(LSTM(50, return_sequences=True))\n",
    "model.add(LSTM(50))\n",
    "model.add(Dense(1))\n",
    "model.compile(loss='mean_squared_error', optimizer='adam')"
   ]
  },
  {
   "cell_type": "code",
   "execution_count": 17,
   "id": "e7a94310",
   "metadata": {},
   "outputs": [
    {
     "name": "stdout",
     "output_type": "stream",
     "text": [
      "Model: \"sequential\"\n",
      "_________________________________________________________________\n",
      "Layer (type)                 Output Shape              Param #   \n",
      "=================================================================\n",
      "lstm (LSTM)                  (None, 2, 50)             10400     \n",
      "_________________________________________________________________\n",
      "lstm_1 (LSTM)                (None, 2, 50)             20200     \n",
      "_________________________________________________________________\n",
      "lstm_2 (LSTM)                (None, 50)                20200     \n",
      "_________________________________________________________________\n",
      "dense (Dense)                (None, 1)                 51        \n",
      "=================================================================\n",
      "Total params: 50,851\n",
      "Trainable params: 50,851\n",
      "Non-trainable params: 0\n",
      "_________________________________________________________________\n"
     ]
    }
   ],
   "source": [
    "model.summary()"
   ]
  },
  {
   "cell_type": "code",
   "execution_count": 18,
   "id": "ad46f009",
   "metadata": {},
   "outputs": [
    {
     "name": "stdout",
     "output_type": "stream",
     "text": [
      "Epoch 1/50\n",
      "61/61 [==============================] - 4s 20ms/step - loss: 0.0791 - val_loss: 0.0270\n",
      "Epoch 2/50\n",
      "61/61 [==============================] - 0s 4ms/step - loss: 0.0274 - val_loss: 0.0314\n",
      "Epoch 3/50\n",
      "61/61 [==============================] - 0s 4ms/step - loss: 0.0240 - val_loss: 0.0275\n",
      "Epoch 4/50\n",
      "61/61 [==============================] - 0s 4ms/step - loss: 0.0226 - val_loss: 0.0260\n",
      "Epoch 5/50\n",
      "61/61 [==============================] - 0s 4ms/step - loss: 0.0195 - val_loss: 0.0123\n",
      "Epoch 6/50\n",
      "61/61 [==============================] - 0s 4ms/step - loss: 0.0219 - val_loss: 0.0281\n",
      "Epoch 7/50\n",
      "61/61 [==============================] - 0s 4ms/step - loss: 0.0204 - val_loss: 0.0188\n",
      "Epoch 8/50\n",
      "61/61 [==============================] - 0s 4ms/step - loss: 0.0194 - val_loss: 0.0149\n",
      "Epoch 9/50\n",
      "61/61 [==============================] - 0s 4ms/step - loss: 0.0173 - val_loss: 0.0126\n",
      "Epoch 10/50\n",
      "61/61 [==============================] - 0s 4ms/step - loss: 0.0208 - val_loss: 0.0122\n",
      "Epoch 11/50\n",
      "61/61 [==============================] - 0s 4ms/step - loss: 0.0201 - val_loss: 0.0149\n",
      "Epoch 12/50\n",
      "61/61 [==============================] - 0s 5ms/step - loss: 0.0187 - val_loss: 0.0140\n",
      "Epoch 13/50\n",
      "61/61 [==============================] - 0s 5ms/step - loss: 0.0185 - val_loss: 0.0124\n",
      "Epoch 14/50\n",
      "61/61 [==============================] - 0s 5ms/step - loss: 0.0235 - val_loss: 0.0216\n",
      "Epoch 15/50\n",
      "61/61 [==============================] - 0s 4ms/step - loss: 0.0188 - val_loss: 0.0228\n",
      "Epoch 16/50\n",
      "61/61 [==============================] - 0s 4ms/step - loss: 0.0182 - val_loss: 0.0132\n",
      "Epoch 17/50\n",
      "61/61 [==============================] - 0s 4ms/step - loss: 0.0202 - val_loss: 0.0175\n",
      "Epoch 18/50\n",
      "61/61 [==============================] - 0s 4ms/step - loss: 0.0183 - val_loss: 0.0167\n",
      "Epoch 19/50\n",
      "61/61 [==============================] - 0s 4ms/step - loss: 0.0182 - val_loss: 0.0165\n",
      "Epoch 20/50\n",
      "61/61 [==============================] - 0s 4ms/step - loss: 0.0155 - val_loss: 0.0302\n",
      "Epoch 21/50\n",
      "61/61 [==============================] - 0s 4ms/step - loss: 0.0179 - val_loss: 0.0150\n",
      "Epoch 22/50\n",
      "61/61 [==============================] - 0s 4ms/step - loss: 0.0168 - val_loss: 0.0168\n",
      "Epoch 23/50\n",
      "61/61 [==============================] - 0s 4ms/step - loss: 0.0165 - val_loss: 0.0174\n",
      "Epoch 24/50\n",
      "61/61 [==============================] - 0s 4ms/step - loss: 0.0173 - val_loss: 0.0151\n",
      "Epoch 25/50\n",
      "61/61 [==============================] - 0s 4ms/step - loss: 0.0161 - val_loss: 0.0128\n",
      "Epoch 26/50\n",
      "61/61 [==============================] - 0s 4ms/step - loss: 0.0163 - val_loss: 0.0111\n",
      "Epoch 27/50\n",
      "61/61 [==============================] - 0s 4ms/step - loss: 0.0149 - val_loss: 0.0085\n",
      "Epoch 28/50\n",
      "61/61 [==============================] - 0s 4ms/step - loss: 0.0153 - val_loss: 0.0089\n",
      "Epoch 29/50\n",
      "61/61 [==============================] - 0s 4ms/step - loss: 0.0118 - val_loss: 0.0090\n",
      "Epoch 30/50\n",
      "61/61 [==============================] - 0s 4ms/step - loss: 0.0105 - val_loss: 0.0086\n",
      "Epoch 31/50\n",
      "61/61 [==============================] - 0s 4ms/step - loss: 0.0101 - val_loss: 0.0059\n",
      "Epoch 32/50\n",
      "61/61 [==============================] - 0s 4ms/step - loss: 0.0115 - val_loss: 0.0087\n",
      "Epoch 33/50\n",
      "61/61 [==============================] - 0s 4ms/step - loss: 0.0138 - val_loss: 0.0079\n",
      "Epoch 34/50\n",
      "61/61 [==============================] - 0s 4ms/step - loss: 0.0095 - val_loss: 0.0076\n",
      "Epoch 35/50\n",
      "61/61 [==============================] - 0s 4ms/step - loss: 0.0094 - val_loss: 0.0126\n",
      "Epoch 36/50\n",
      "61/61 [==============================] - 0s 4ms/step - loss: 0.0092 - val_loss: 0.0068\n",
      "Epoch 37/50\n",
      "61/61 [==============================] - 0s 4ms/step - loss: 0.0110 - val_loss: 0.0082\n",
      "Epoch 38/50\n",
      "61/61 [==============================] - 0s 4ms/step - loss: 0.0113 - val_loss: 0.0077\n",
      "Epoch 39/50\n",
      "61/61 [==============================] - 0s 4ms/step - loss: 0.0105 - val_loss: 0.0087\n",
      "Epoch 40/50\n",
      "61/61 [==============================] - 0s 4ms/step - loss: 0.0085 - val_loss: 0.0109\n",
      "Epoch 41/50\n",
      "61/61 [==============================] - 0s 4ms/step - loss: 0.0118 - val_loss: 0.0080\n",
      "Epoch 42/50\n",
      "61/61 [==============================] - 0s 4ms/step - loss: 0.0098 - val_loss: 0.0112\n",
      "Epoch 43/50\n",
      "61/61 [==============================] - 0s 4ms/step - loss: 0.0093 - val_loss: 0.0066\n",
      "Epoch 44/50\n",
      "61/61 [==============================] - 0s 4ms/step - loss: 0.0096 - val_loss: 0.0081\n",
      "Epoch 45/50\n",
      "61/61 [==============================] - 0s 4ms/step - loss: 0.0099 - val_loss: 0.0056\n",
      "Epoch 46/50\n",
      "61/61 [==============================] - 0s 5ms/step - loss: 0.0089 - val_loss: 0.0077\n",
      "Epoch 47/50\n",
      "61/61 [==============================] - 0s 4ms/step - loss: 0.0088 - val_loss: 0.0070\n",
      "Epoch 48/50\n",
      "61/61 [==============================] - 0s 4ms/step - loss: 0.0094 - val_loss: 0.0077\n",
      "Epoch 49/50\n",
      "61/61 [==============================] - 0s 5ms/step - loss: 0.0094 - val_loss: 0.0076\n",
      "Epoch 50/50\n",
      "61/61 [==============================] - 0s 5ms/step - loss: 0.0096 - val_loss: 0.0118\n"
     ]
    },
    {
     "data": {
      "text/plain": [
       "<keras.callbacks.History at 0x1fa62548d00>"
      ]
     },
     "execution_count": 18,
     "metadata": {},
     "output_type": "execute_result"
    }
   ],
   "source": [
    "model.fit(X_train, y_train, validation_data=(X_test, ytest), epochs=50, batch_size=1, verbose=1)"
   ]
  },
  {
   "cell_type": "code",
   "execution_count": 19,
   "id": "9c5fae49",
   "metadata": {},
   "outputs": [],
   "source": [
    "import tensorflow as tf"
   ]
  },
  {
   "cell_type": "code",
   "execution_count": 20,
   "id": "5bb07727",
   "metadata": {},
   "outputs": [],
   "source": [
    "#Do the prediction and check performance metrics\n",
    "train_predict = model.predict(X_train)\n",
    "test_predict = model.predict(X_test)"
   ]
  },
  {
   "cell_type": "code",
   "execution_count": 21,
   "id": "cd8d11e2",
   "metadata": {},
   "outputs": [],
   "source": [
    "#Transformback to original form\n",
    "train_predict = scaler.inverse_transform(train_predict)\n",
    "test_predict = scaler.inverse_transform(test_predict)"
   ]
  },
  {
   "cell_type": "code",
   "execution_count": 22,
   "id": "4a8f33f4",
   "metadata": {},
   "outputs": [
    {
     "data": {
      "text/plain": [
       "244097.18210794235"
      ]
     },
     "execution_count": 22,
     "metadata": {},
     "output_type": "execute_result"
    }
   ],
   "source": [
    "#Calculate RSME perfomance metrics\n",
    "import math\n",
    "from sklearn.metrics import mean_squared_error\n",
    "math.sqrt(mean_squared_error(y_train, train_predict))"
   ]
  },
  {
   "cell_type": "code",
   "execution_count": 23,
   "id": "a1904b1a",
   "metadata": {},
   "outputs": [
    {
     "data": {
      "text/plain": [
       "184665.51630776105"
      ]
     },
     "execution_count": 23,
     "metadata": {},
     "output_type": "execute_result"
    }
   ],
   "source": [
    "#Test data RSME\n",
    "math.sqrt(mean_squared_error(ytest, test_predict))"
   ]
  },
  {
   "cell_type": "code",
   "execution_count": 24,
   "id": "fc00a958",
   "metadata": {},
   "outputs": [
    {
     "data": {
      "image/png": "[encoded data removed]",
      "text/plain": [
       "<Figure size 720x432 with 1 Axes>"
      ]
     },
     "metadata": {
      "needs_background": "light"
     },
     "output_type": "display_data"
    }
   ],
   "source": [
    "###Plotting\n",
    "#Shift train prediction for plotting\n",
    "look_back = 2\n",
    "trainPredictPlot = numpy.empty_like(df1)\n",
    "trainPredictPlot[:, :] = np.nan\n",
    "trainPredictPlot[look_back: len(train_predict)+look_back, :] = train_predict\n",
    "#Shift test prediction for plotting\n",
    "testPredictPlot = numpy.empty_like(df1)\n",
    "testPredictPlot[:, :] = numpy.nan\n",
    "testPredictPlot[len(train_predict)+(look_back*2)+1:len(df1)-1, :] = test_predict\n",
    "#Plot baseline and predictions\n",
    "plt.plot(scaler.inverse_transform(df1))\n",
    "plt.plot(trainPredictPlot, label='Train Data')\n",
    "plt.plot(testPredictPlot, label='Test Data')\n",
    "plt.legend(loc='best')\n",
    "plt.show()"
   ]
  },
  {
   "cell_type": "code",
   "execution_count": 25,
   "id": "dc15df56",
   "metadata": {},
   "outputs": [
    {
     "data": {
      "text/plain": [
       "28"
      ]
     },
     "execution_count": 25,
     "metadata": {},
     "output_type": "execute_result"
    }
   ],
   "source": [
    "len(test_data)"
   ]
  },
  {
   "cell_type": "code",
   "execution_count": 26,
   "id": "380aa5d1",
   "metadata": {},
   "outputs": [
    {
     "data": {
      "text/plain": [
       "(1, 2)"
      ]
     },
     "execution_count": 26,
     "metadata": {},
     "output_type": "execute_result"
    }
   ],
   "source": [
    "x_input = test_data[26:].reshape(1,-1)\n",
    "x_input.shape"
   ]
  },
  {
   "cell_type": "code",
   "execution_count": 27,
   "id": "19705521",
   "metadata": {},
   "outputs": [
    {
     "data": {
      "text/plain": [
       "[0.3846153846153846, 0.34615384615384615]"
      ]
     },
     "execution_count": 27,
     "metadata": {},
     "output_type": "execute_result"
    }
   ],
   "source": [
    "temp_input=list(x_input)\n",
    "temp_input=temp_input[0].tolist()\n",
    "temp_input"
   ]
  },
  {
   "cell_type": "code",
   "execution_count": 28,
   "id": "444ec3c2",
   "metadata": {},
   "outputs": [
    {
     "name": "stdout",
     "output_type": "stream",
     "text": [
      "[0.39381915]\n",
      "3\n",
      "1 day input [0.34615385 0.39381915]\n",
      "1 day output [[0.45204812]]\n",
      "2 day input [0.39381915 0.45204812]\n",
      "2 day output [[0.50275636]]\n",
      "3 day input [0.45204812 0.50275636]\n",
      "3 day output [[0.5437889]]\n",
      "4 day input [0.50275636 0.54378891]\n",
      "4 day output [[0.57644147]]\n",
      "5 day input [0.54378891 0.57644147]\n",
      "5 day output [[0.6024237]]\n",
      "6 day input [0.57644147 0.60242373]\n",
      "6 day output [[0.6232054]]\n",
      "7 day input [0.60242373 0.62320542]\n",
      "7 day output [[0.63993657]]\n",
      "8 day input [0.62320542 0.63993657]\n",
      "8 day output [[0.6534946]]\n",
      "9 day input [0.63993657 0.6534946 ]\n",
      "9 day output [[0.6645475]]\n",
      "[[0.3938191533088684], [0.452048122882843], [0.5027563571929932], [0.5437889099121094], [0.5764414668083191], [0.6024237275123596], [0.6232054233551025], [0.6399365663528442], [0.6534945964813232], [0.6645475029945374]]\n"
     ]
    }
   ],
   "source": [
    "#Demonstrate prediction next 10 days\n",
    "from numpy import array\n",
    "lst_output = []\n",
    "n_steps = 2\n",
    "i = 0\n",
    "while(i<10):\n",
    "    if (len(temp_input)>2):\n",
    "        #print temp_input\n",
    "        x_input=np.array(temp_input[1:])\n",
    "        print(\"{} day input {}\".format(i,x_input))\n",
    "        x_input=x_input.reshape(1,-1)\n",
    "        x_input=x_input.reshape((1, n_steps, 1))\n",
    "        #print x_input\n",
    "        yhat = model.predict(x_input, verbose=0)\n",
    "        print(\"{} day output {}\".format(i,yhat))\n",
    "        temp_input.extend(yhat[0].tolist())\n",
    "        temp_input=temp_input[1:]\n",
    "        #print temp_input\n",
    "        lst_output.extend(yhat.tolist())\n",
    "        i=i+1\n",
    "    else:\n",
    "        x_input = x_input.reshape((1, n_steps, 1))\n",
    "        yhat = model.predict(x_input, verbose=0)\n",
    "        print(yhat[0])\n",
    "        temp_input.extend(yhat[0].tolist())\n",
    "        print(len(temp_input))\n",
    "        lst_output.extend(yhat.tolist())\n",
    "        i=i+1\n",
    "\n",
    "print(lst_output)"
   ]
  },
  {
   "cell_type": "code",
   "execution_count": 29,
   "id": "1a8846ed",
   "metadata": {},
   "outputs": [],
   "source": [
    "day_new = np.arange(1,3)\n",
    "day_pred = np.arange(3,13)"
   ]
  },
  {
   "cell_type": "code",
   "execution_count": 30,
   "id": "0ac6e3e6",
   "metadata": {},
   "outputs": [],
   "source": [
    "import matplotlib.pyplot as plt"
   ]
  },
  {
   "cell_type": "code",
   "execution_count": 31,
   "id": "5bbb742e",
   "metadata": {},
   "outputs": [
    {
     "data": {
      "text/plain": [
       "92"
      ]
     },
     "execution_count": 31,
     "metadata": {},
     "output_type": "execute_result"
    }
   ],
   "source": [
    "len(df1)"
   ]
  },
  {
   "cell_type": "code",
   "execution_count": 32,
   "id": "cfb21bbe",
   "metadata": {},
   "outputs": [],
   "source": [
    "# df3=df1.tolist()\n",
    "# df3.extend(lst_output)"
   ]
  },
  {
   "cell_type": "code",
   "execution_count": 33,
   "id": "5361d8ab",
   "metadata": {},
   "outputs": [
    {
     "data": {
      "text/plain": [
       "[<matplotlib.lines.Line2D at 0x1fa6b0d39d0>]"
      ]
     },
     "execution_count": 33,
     "metadata": {},
     "output_type": "execute_result"
    },
    {
     "data": {
      "image/png": "[encoded data removed]",
      "text/plain": [
       "<Figure size 720x432 with 1 Axes>"
      ]
     },
     "metadata": {
      "needs_background": "light"
     },
     "output_type": "display_data"
    }
   ],
   "source": [
    "plt.plot(day_new, scaler.inverse_transform(df1[90:]))\n",
    "plt.plot(day_pred, scaler.inverse_transform(lst_output))"
   ]
  },
  {
   "cell_type": "code",
   "execution_count": 34,
   "id": "1e0e6e72",
   "metadata": {},
   "outputs": [
    {
     "data": {
      "text/plain": [
       "[<matplotlib.lines.Line2D at 0x1fa6b0a64f0>]"
      ]
     },
     "execution_count": 34,
     "metadata": {},
     "output_type": "execute_result"
    },
    {
     "data": {
      "image/png": "[encoded data removed]",
      "text/plain": [
       "<Figure size 720x432 with 1 Axes>"
      ]
     },
     "metadata": {
      "needs_background": "light"
     },
     "output_type": "display_data"
    }
   ],
   "source": [
    "df3=df1.tolist()\n",
    "df3.extend(lst_output)\n",
    "plt.plot(df3[30:])"
   ]
  }
 ],
 "metadata": {
  "kernelspec": {
   "display_name": "Python 3 (ipykernel)",
   "language": "python",
   "name": "python3"
  },
  "language_info": {
   "codemirror_mode": {
    "name": "ipython",
    "version": 3
   },
   "file_extension": ".py",
   "mimetype": "text/x-python",
   "name": "python",
   "nbconvert_exporter": "python",
   "pygments_lexer": "ipython3",
   "version": "3.8.5"
  }
 },
 "nbformat": 4,
 "nbformat_minor": 5
}
