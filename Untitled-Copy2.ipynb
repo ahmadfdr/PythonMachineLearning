{
 "cells": [
  {
   "cell_type": "code",
   "execution_count": 1,
   "id": "329463b4",
   "metadata": {},
   "outputs": [],
   "source": [
    "import pandas as pd\n",
    "from matplotlib.pylab import rcParams\n",
    "rcParams['figure.figsize'] = 10,6"
   ]
  },
  {
   "cell_type": "code",
   "execution_count": 2,
   "id": "01ce2498",
   "metadata": {},
   "outputs": [
    {
     "data": {
      "text/html": [
       "<div>\n",
       "<style scoped>\n",
       "    .dataframe tbody tr th:only-of-type {\n",
       "        vertical-align: middle;\n",
       "    }\n",
       "\n",
       "    .dataframe tbody tr th {\n",
       "        vertical-align: top;\n",
       "    }\n",
       "\n",
       "    .dataframe thead th {\n",
       "        text-align: right;\n",
       "    }\n",
       "</style>\n",
       "<table border=\"1\" class=\"dataframe\">\n",
       "  <thead>\n",
       "    <tr style=\"text-align: right;\">\n",
       "      <th></th>\n",
       "      <th>Tanggal</th>\n",
       "      <th>Jumlah Cup yang Terjual</th>\n",
       "      <th>Penjualan Kopi Susu</th>\n",
       "    </tr>\n",
       "  </thead>\n",
       "  <tbody>\n",
       "    <tr>\n",
       "      <th>0</th>\n",
       "      <td>2021-05-01</td>\n",
       "      <td>8</td>\n",
       "      <td>120000</td>\n",
       "    </tr>\n",
       "    <tr>\n",
       "      <th>1</th>\n",
       "      <td>2021-05-02</td>\n",
       "      <td>7</td>\n",
       "      <td>105000</td>\n",
       "    </tr>\n",
       "    <tr>\n",
       "      <th>2</th>\n",
       "      <td>2021-05-03</td>\n",
       "      <td>5</td>\n",
       "      <td>75000</td>\n",
       "    </tr>\n",
       "    <tr>\n",
       "      <th>3</th>\n",
       "      <td>2021-05-04</td>\n",
       "      <td>5</td>\n",
       "      <td>75000</td>\n",
       "    </tr>\n",
       "    <tr>\n",
       "      <th>4</th>\n",
       "      <td>2021-05-05</td>\n",
       "      <td>4</td>\n",
       "      <td>60000</td>\n",
       "    </tr>\n",
       "    <tr>\n",
       "      <th>...</th>\n",
       "      <td>...</td>\n",
       "      <td>...</td>\n",
       "      <td>...</td>\n",
       "    </tr>\n",
       "    <tr>\n",
       "      <th>87</th>\n",
       "      <td>2021-07-27</td>\n",
       "      <td>5</td>\n",
       "      <td>75000</td>\n",
       "    </tr>\n",
       "    <tr>\n",
       "      <th>88</th>\n",
       "      <td>2021-07-28</td>\n",
       "      <td>5</td>\n",
       "      <td>75000</td>\n",
       "    </tr>\n",
       "    <tr>\n",
       "      <th>89</th>\n",
       "      <td>2021-07-29</td>\n",
       "      <td>6</td>\n",
       "      <td>90000</td>\n",
       "    </tr>\n",
       "    <tr>\n",
       "      <th>90</th>\n",
       "      <td>2021-07-30</td>\n",
       "      <td>6</td>\n",
       "      <td>90000</td>\n",
       "    </tr>\n",
       "    <tr>\n",
       "      <th>91</th>\n",
       "      <td>2021-07-31</td>\n",
       "      <td>8</td>\n",
       "      <td>120000</td>\n",
       "    </tr>\n",
       "  </tbody>\n",
       "</table>\n",
       "<p>92 rows × 3 columns</p>\n",
       "</div>"
      ],
      "text/plain": [
       "      Tanggal  Jumlah Cup yang Terjual  Penjualan Kopi Susu\n",
       "0  2021-05-01                        8               120000\n",
       "1  2021-05-02                        7               105000\n",
       "2  2021-05-03                        5                75000\n",
       "3  2021-05-04                        5                75000\n",
       "4  2021-05-05                        4                60000\n",
       "..        ...                      ...                  ...\n",
       "87 2021-07-27                        5                75000\n",
       "88 2021-07-28                        5                75000\n",
       "89 2021-07-29                        6                90000\n",
       "90 2021-07-30                        6                90000\n",
       "91 2021-07-31                        8               120000\n",
       "\n",
       "[92 rows x 3 columns]"
      ]
     },
     "execution_count": 2,
     "metadata": {},
     "output_type": "execute_result"
    }
   ],
   "source": [
    "df = pd.read_excel('TKTK.xlsx', sheet_name='KOPI SUSU')\n",
    "df"
   ]
  },
  {
   "cell_type": "code",
   "execution_count": 3,
   "id": "28568540",
   "metadata": {},
   "outputs": [
    {
     "data": {
      "text/plain": [
       "(92, 3)"
      ]
     },
     "execution_count": 3,
     "metadata": {},
     "output_type": "execute_result"
    }
   ],
   "source": [
    "df.shape"
   ]
  },
  {
   "cell_type": "code",
   "execution_count": 4,
   "id": "8b6226d5",
   "metadata": {},
   "outputs": [
    {
     "data": {
      "text/plain": [
       "0     120000\n",
       "1     105000\n",
       "2      75000\n",
       "3      75000\n",
       "4      60000\n",
       "       ...  \n",
       "87     75000\n",
       "88     75000\n",
       "89     90000\n",
       "90     90000\n",
       "91    120000\n",
       "Name: Penjualan Kopi Susu, Length: 92, dtype: int64"
      ]
     },
     "execution_count": 4,
     "metadata": {},
     "output_type": "execute_result"
    }
   ],
   "source": [
    "df1 = df.reset_index()['Penjualan Kopi Susu']\n",
    "df1"
   ]
  },
  {
   "cell_type": "code",
   "execution_count": 5,
   "id": "d23ad258",
   "metadata": {},
   "outputs": [
    {
     "data": {
      "text/plain": [
       "[<matplotlib.lines.Line2D at 0x1af4cb06f70>]"
      ]
     },
     "execution_count": 5,
     "metadata": {},
     "output_type": "execute_result"
    },
    {
     "data": {
      "image/png": "[encoded data removed]",
      "text/plain": [
       "<Figure size 720x432 with 1 Axes>"
      ]
     },
     "metadata": {
      "needs_background": "light"
     },
     "output_type": "display_data"
    }
   ],
   "source": [
    "import matplotlib.pyplot as plt\n",
    "plt.xlabel('Days')\n",
    "plt.ylabel('Sales')\n",
    "plt.plot(df1)"
   ]
  },
  {
   "cell_type": "code",
   "execution_count": 6,
   "id": "e8c51f7e",
   "metadata": {},
   "outputs": [],
   "source": [
    "#LSTM is sensitive to the scale of the data, so we apply MinMax Scaler\n",
    "import numpy as np\n",
    "from sklearn.preprocessing import MinMaxScaler"
   ]
  },
  {
   "cell_type": "code",
   "execution_count": 7,
   "id": "cf73254c",
   "metadata": {},
   "outputs": [
    {
     "name": "stdout",
     "output_type": "stream",
     "text": [
      "[[0.4 ]\n",
      " [0.35]\n",
      " [0.25]\n",
      " [0.25]\n",
      " [0.2 ]\n",
      " [0.15]\n",
      " [0.25]\n",
      " [0.3 ]\n",
      " [0.35]\n",
      " [0.3 ]\n",
      " [0.25]\n",
      " [0.2 ]\n",
      " [0.1 ]\n",
      " [0.3 ]\n",
      " [0.3 ]\n",
      " [0.45]\n",
      " [0.25]\n",
      " [0.2 ]\n",
      " [0.1 ]\n",
      " [0.25]\n",
      " [0.4 ]\n",
      " [0.5 ]\n",
      " [0.5 ]\n",
      " [0.3 ]\n",
      " [0.35]\n",
      " [0.25]\n",
      " [0.2 ]\n",
      " [0.3 ]\n",
      " [0.55]\n",
      " [0.45]\n",
      " [0.3 ]\n",
      " [0.2 ]\n",
      " [0.15]\n",
      " [0.25]\n",
      " [0.35]\n",
      " [0.5 ]\n",
      " [0.4 ]\n",
      " [0.35]\n",
      " [0.35]\n",
      " [0.55]\n",
      " [0.6 ]\n",
      " [0.75]\n",
      " [0.85]\n",
      " [1.  ]\n",
      " [0.85]\n",
      " [0.7 ]\n",
      " [0.65]\n",
      " [0.55]\n",
      " [0.6 ]\n",
      " [0.65]\n",
      " [0.45]\n",
      " [0.4 ]\n",
      " [0.35]\n",
      " [0.35]\n",
      " [0.4 ]\n",
      " [0.5 ]\n",
      " [0.65]\n",
      " [0.55]\n",
      " [0.4 ]\n",
      " [0.25]\n",
      " [0.15]\n",
      " [0.25]\n",
      " [0.45]\n",
      " [0.4 ]\n",
      " [0.25]\n",
      " [0.2 ]\n",
      " [0.15]\n",
      " [0.1 ]\n",
      " [0.1 ]\n",
      " [0.15]\n",
      " [0.2 ]\n",
      " [0.1 ]\n",
      " [0.05]\n",
      " [0.  ]\n",
      " [0.1 ]\n",
      " [0.1 ]\n",
      " [0.15]\n",
      " [0.2 ]\n",
      " [0.15]\n",
      " [0.05]\n",
      " [0.  ]\n",
      " [0.1 ]\n",
      " [0.05]\n",
      " [0.15]\n",
      " [0.2 ]\n",
      " [0.25]\n",
      " [0.2 ]\n",
      " [0.25]\n",
      " [0.25]\n",
      " [0.3 ]\n",
      " [0.3 ]\n",
      " [0.4 ]]\n"
     ]
    }
   ],
   "source": [
    "scaler = MinMaxScaler(feature_range = (0,1))\n",
    "df1 = scaler.fit_transform(np.array(df1).reshape(-1,1))\n",
    "print(df1)"
   ]
  },
  {
   "cell_type": "code",
   "execution_count": 8,
   "id": "62fe3346",
   "metadata": {},
   "outputs": [
    {
     "data": {
      "text/plain": [
       "(64, 28)"
      ]
     },
     "execution_count": 8,
     "metadata": {},
     "output_type": "execute_result"
    }
   ],
   "source": [
    "#Splitting the data into train and test split\n",
    "training_size = int(len(df1)*0.70)\n",
    "test_size = len(df)-training_size\n",
    "train_data, test_data = df1[0:training_size,:], df1[training_size:len(df1),:1]\n",
    "training_size, test_size"
   ]
  },
  {
   "cell_type": "code",
   "execution_count": 9,
   "id": "13922473",
   "metadata": {},
   "outputs": [
    {
     "data": {
      "text/plain": [
       "array([[0.4 ],\n",
       "       [0.35],\n",
       "       [0.25],\n",
       "       [0.25],\n",
       "       [0.2 ],\n",
       "       [0.15],\n",
       "       [0.25],\n",
       "       [0.3 ],\n",
       "       [0.35],\n",
       "       [0.3 ],\n",
       "       [0.25],\n",
       "       [0.2 ],\n",
       "       [0.1 ],\n",
       "       [0.3 ],\n",
       "       [0.3 ],\n",
       "       [0.45],\n",
       "       [0.25],\n",
       "       [0.2 ],\n",
       "       [0.1 ],\n",
       "       [0.25],\n",
       "       [0.4 ],\n",
       "       [0.5 ],\n",
       "       [0.5 ],\n",
       "       [0.3 ],\n",
       "       [0.35],\n",
       "       [0.25],\n",
       "       [0.2 ],\n",
       "       [0.3 ],\n",
       "       [0.55],\n",
       "       [0.45],\n",
       "       [0.3 ],\n",
       "       [0.2 ],\n",
       "       [0.15],\n",
       "       [0.25],\n",
       "       [0.35],\n",
       "       [0.5 ],\n",
       "       [0.4 ],\n",
       "       [0.35],\n",
       "       [0.35],\n",
       "       [0.55],\n",
       "       [0.6 ],\n",
       "       [0.75],\n",
       "       [0.85],\n",
       "       [1.  ],\n",
       "       [0.85],\n",
       "       [0.7 ],\n",
       "       [0.65],\n",
       "       [0.55],\n",
       "       [0.6 ],\n",
       "       [0.65],\n",
       "       [0.45],\n",
       "       [0.4 ],\n",
       "       [0.35],\n",
       "       [0.35],\n",
       "       [0.4 ],\n",
       "       [0.5 ],\n",
       "       [0.65],\n",
       "       [0.55],\n",
       "       [0.4 ],\n",
       "       [0.25],\n",
       "       [0.15],\n",
       "       [0.25],\n",
       "       [0.45],\n",
       "       [0.4 ]])"
      ]
     },
     "execution_count": 9,
     "metadata": {},
     "output_type": "execute_result"
    }
   ],
   "source": [
    "train_data"
   ]
  },
  {
   "cell_type": "code",
   "execution_count": 10,
   "id": "10ad7431",
   "metadata": {},
   "outputs": [],
   "source": [
    "import numpy\n",
    "#Convert an array of values into a dataset matrix\n",
    "def create_dataset(dataset, time_step=1):\n",
    "    dataX, dataY = [], []\n",
    "    for i in range (len(dataset)-time_step-1):\n",
    "        a = dataset[i:(i+time_step), 0]   #i=0, 0,1,2,3----9   10\n",
    "        dataX.append(a)\n",
    "        dataY.append(dataset[i + time_step, 0])\n",
    "    return numpy.array(dataX), numpy.array(dataY)"
   ]
  },
  {
   "cell_type": "code",
   "execution_count": 11,
   "id": "d55cd3a8",
   "metadata": {},
   "outputs": [],
   "source": [
    "#Reshape into X=t, t+1, t+2, t+3, and Y=t+4\n",
    "time_step = 5\n",
    "X_train, y_train = create_dataset(train_data, time_step)\n",
    "X_test, ytest = create_dataset(test_data, time_step)"
   ]
  },
  {
   "cell_type": "code",
   "execution_count": 12,
   "id": "6e74c51a",
   "metadata": {},
   "outputs": [
    {
     "name": "stdout",
     "output_type": "stream",
     "text": [
      "(58, 5)\n",
      "(58,)\n"
     ]
    },
    {
     "data": {
      "text/plain": [
       "(None, None)"
      ]
     },
     "execution_count": 12,
     "metadata": {},
     "output_type": "execute_result"
    }
   ],
   "source": [
    "print(X_train.shape), print(y_train.shape)"
   ]
  },
  {
   "cell_type": "code",
   "execution_count": 13,
   "id": "8c066bf0",
   "metadata": {},
   "outputs": [
    {
     "name": "stdout",
     "output_type": "stream",
     "text": [
      "(22, 5)\n",
      "(22,)\n"
     ]
    },
    {
     "data": {
      "text/plain": [
       "(None, None)"
      ]
     },
     "execution_count": 13,
     "metadata": {},
     "output_type": "execute_result"
    }
   ],
   "source": [
    "print(X_test.shape), print(ytest.shape)"
   ]
  },
  {
   "cell_type": "code",
   "execution_count": 14,
   "id": "7ca792a7",
   "metadata": {},
   "outputs": [],
   "source": [
    "#Reshape input to be [samples, time_steps, features] which is required for LSTM\n",
    "X_train = X_train.reshape(X_train.shape[0], X_train.shape[1], 1)\n",
    "X_test = X_test.reshape(X_test.shape[0], X_test.shape[1], 1)"
   ]
  },
  {
   "cell_type": "code",
   "execution_count": 15,
   "id": "faa3672e",
   "metadata": {
    "scrolled": true
   },
   "outputs": [],
   "source": [
    "#Create the stacked LSTM Model\n",
    "from tensorflow.keras.models import Sequential\n",
    "from tensorflow.keras.layers import Dense\n",
    "from tensorflow.keras.layers import LSTM"
   ]
  },
  {
   "cell_type": "code",
   "execution_count": 16,
   "id": "a55c8830",
   "metadata": {},
   "outputs": [],
   "source": [
    "model = Sequential()\n",
    "model.add(LSTM(50, return_sequences=True, input_shape=(5,1)))\n",
    "model.add(LSTM(50, return_sequences=True))\n",
    "model.add(LSTM(50))\n",
    "model.add(Dense(1))\n",
    "model.compile(loss='mean_squared_error', optimizer='adam')"
   ]
  },
  {
   "cell_type": "code",
   "execution_count": 17,
   "id": "e7a94310",
   "metadata": {},
   "outputs": [
    {
     "name": "stdout",
     "output_type": "stream",
     "text": [
      "Model: \"sequential\"\n",
      "_________________________________________________________________\n",
      "Layer (type)                 Output Shape              Param #   \n",
      "=================================================================\n",
      "lstm (LSTM)                  (None, 5, 50)             10400     \n",
      "_________________________________________________________________\n",
      "lstm_1 (LSTM)                (None, 5, 50)             20200     \n",
      "_________________________________________________________________\n",
      "lstm_2 (LSTM)                (None, 50)                20200     \n",
      "_________________________________________________________________\n",
      "dense (Dense)                (None, 1)                 51        \n",
      "=================================================================\n",
      "Total params: 50,851\n",
      "Trainable params: 50,851\n",
      "Non-trainable params: 0\n",
      "_________________________________________________________________\n"
     ]
    }
   ],
   "source": [
    "model.summary()"
   ]
  },
  {
   "cell_type": "code",
   "execution_count": 18,
   "id": "ad46f009",
   "metadata": {},
   "outputs": [
    {
     "name": "stdout",
     "output_type": "stream",
     "text": [
      "Epoch 1/50\n",
      "58/58 [==============================] - 10s 65ms/step - loss: 0.0604 - val_loss: 0.0396\n",
      "Epoch 2/50\n",
      "58/58 [==============================] - 1s 12ms/step - loss: 0.0342 - val_loss: 0.0172\n",
      "Epoch 3/50\n",
      "58/58 [==============================] - 1s 13ms/step - loss: 0.0341 - val_loss: 0.0222\n",
      "Epoch 4/50\n",
      "58/58 [==============================] - 1s 12ms/step - loss: 0.0350 - val_loss: 0.0381\n",
      "Epoch 5/50\n",
      "58/58 [==============================] - 1s 13ms/step - loss: 0.0349 - val_loss: 0.0182\n",
      "Epoch 6/50\n",
      "58/58 [==============================] - 1s 12ms/step - loss: 0.0344 - val_loss: 0.0208\n",
      "Epoch 7/50\n",
      "58/58 [==============================] - 1s 13ms/step - loss: 0.0353 - val_loss: 0.0188\n",
      "Epoch 8/50\n",
      "58/58 [==============================] - 1s 12ms/step - loss: 0.0332 - val_loss: 0.0312\n",
      "Epoch 9/50\n",
      "58/58 [==============================] - 1s 12ms/step - loss: 0.0324 - val_loss: 0.0182\n",
      "Epoch 10/50\n",
      "58/58 [==============================] - 1s 12ms/step - loss: 0.0276 - val_loss: 0.0753\n",
      "Epoch 11/50\n",
      "58/58 [==============================] - 1s 13ms/step - loss: 0.0446 - val_loss: 0.0347\n",
      "Epoch 12/50\n",
      "58/58 [==============================] - 1s 12ms/step - loss: 0.0343 - val_loss: 0.0227\n",
      "Epoch 13/50\n",
      "58/58 [==============================] - 1s 13ms/step - loss: 0.0279 - val_loss: 0.0498\n",
      "Epoch 14/50\n",
      "58/58 [==============================] - 1s 13ms/step - loss: 0.0311 - val_loss: 0.0317\n",
      "Epoch 15/50\n",
      "58/58 [==============================] - 1s 13ms/step - loss: 0.0296 - val_loss: 0.0211\n",
      "Epoch 16/50\n",
      "58/58 [==============================] - 1s 13ms/step - loss: 0.0301 - val_loss: 0.0288\n",
      "Epoch 17/50\n",
      "58/58 [==============================] - 1s 13ms/step - loss: 0.0302 - val_loss: 0.0283\n",
      "Epoch 18/50\n",
      "58/58 [==============================] - 1s 13ms/step - loss: 0.0302 - val_loss: 0.0242\n",
      "Epoch 19/50\n",
      "58/58 [==============================] - 1s 13ms/step - loss: 0.0279 - val_loss: 0.0171\n",
      "Epoch 20/50\n",
      "58/58 [==============================] - 1s 13ms/step - loss: 0.0276 - val_loss: 0.0153\n",
      "Epoch 21/50\n",
      "58/58 [==============================] - 1s 13ms/step - loss: 0.0266 - val_loss: 0.0236\n",
      "Epoch 22/50\n",
      "58/58 [==============================] - 1s 13ms/step - loss: 0.0251 - val_loss: 0.0195\n",
      "Epoch 23/50\n",
      "58/58 [==============================] - 1s 13ms/step - loss: 0.0250 - val_loss: 0.0116\n",
      "Epoch 24/50\n",
      "58/58 [==============================] - 1s 13ms/step - loss: 0.0238 - val_loss: 0.0211\n",
      "Epoch 25/50\n",
      "58/58 [==============================] - 1s 14ms/step - loss: 0.0176 - val_loss: 0.0179\n",
      "Epoch 26/50\n",
      "58/58 [==============================] - 1s 14ms/step - loss: 0.0160 - val_loss: 0.0143\n",
      "Epoch 27/50\n",
      "58/58 [==============================] - 1s 14ms/step - loss: 0.0148 - val_loss: 0.0114\n",
      "Epoch 28/50\n",
      "58/58 [==============================] - 1s 13ms/step - loss: 0.0122 - val_loss: 0.0127\n",
      "Epoch 29/50\n",
      "58/58 [==============================] - 1s 14ms/step - loss: 0.0117 - val_loss: 0.0145\n",
      "Epoch 30/50\n",
      "58/58 [==============================] - 1s 14ms/step - loss: 0.0169 - val_loss: 0.0104\n",
      "Epoch 31/50\n",
      "58/58 [==============================] - 1s 14ms/step - loss: 0.0129 - val_loss: 0.0076\n",
      "Epoch 32/50\n",
      "58/58 [==============================] - 1s 14ms/step - loss: 0.0128 - val_loss: 0.0077\n",
      "Epoch 33/50\n",
      "58/58 [==============================] - 1s 14ms/step - loss: 0.0124 - val_loss: 0.0058\n",
      "Epoch 34/50\n",
      "58/58 [==============================] - 1s 14ms/step - loss: 0.0124 - val_loss: 0.0116\n",
      "Epoch 35/50\n",
      "58/58 [==============================] - 1s 14ms/step - loss: 0.0140 - val_loss: 0.0138\n",
      "Epoch 36/50\n",
      "58/58 [==============================] - 1s 14ms/step - loss: 0.0136 - val_loss: 0.0106\n",
      "Epoch 37/50\n",
      "58/58 [==============================] - 1s 14ms/step - loss: 0.0109 - val_loss: 0.0087\n",
      "Epoch 38/50\n",
      "58/58 [==============================] - 1s 14ms/step - loss: 0.0123 - val_loss: 0.0062\n",
      "Epoch 39/50\n",
      "58/58 [==============================] - 1s 14ms/step - loss: 0.0124 - val_loss: 0.0063\n",
      "Epoch 40/50\n",
      "58/58 [==============================] - 1s 13ms/step - loss: 0.0127 - val_loss: 0.0069\n",
      "Epoch 41/50\n",
      "58/58 [==============================] - 1s 12ms/step - loss: 0.0137 - val_loss: 0.0129\n",
      "Epoch 42/50\n",
      "58/58 [==============================] - 1s 13ms/step - loss: 0.0138 - val_loss: 0.0090\n",
      "Epoch 43/50\n",
      "58/58 [==============================] - 1s 13ms/step - loss: 0.0112 - val_loss: 0.0119\n",
      "Epoch 44/50\n",
      "58/58 [==============================] - 1s 12ms/step - loss: 0.0119 - val_loss: 0.0117\n",
      "Epoch 45/50\n",
      "58/58 [==============================] - 1s 12ms/step - loss: 0.0154 - val_loss: 0.0122\n",
      "Epoch 46/50\n",
      "58/58 [==============================] - 1s 15ms/step - loss: 0.0118 - val_loss: 0.0076\n",
      "Epoch 47/50\n",
      "58/58 [==============================] - 1s 14ms/step - loss: 0.0112 - val_loss: 0.0129\n",
      "Epoch 48/50\n",
      "58/58 [==============================] - 1s 13ms/step - loss: 0.0118 - val_loss: 0.0124\n",
      "Epoch 49/50\n",
      "58/58 [==============================] - 1s 12ms/step - loss: 0.0113 - val_loss: 0.0106\n",
      "Epoch 50/50\n",
      "58/58 [==============================] - 1s 12ms/step - loss: 0.0106 - val_loss: 0.0076\n"
     ]
    },
    {
     "data": {
      "text/plain": [
       "<keras.callbacks.History at 0x1af64f00eb0>"
      ]
     },
     "execution_count": 18,
     "metadata": {},
     "output_type": "execute_result"
    }
   ],
   "source": [
    "model.fit(X_train, y_train, validation_data=(X_test, ytest), epochs=50, batch_size=1, verbose=1)"
   ]
  },
  {
   "cell_type": "code",
   "execution_count": 19,
   "id": "9c5fae49",
   "metadata": {},
   "outputs": [],
   "source": [
    "import tensorflow as tf"
   ]
  },
  {
   "cell_type": "code",
   "execution_count": 20,
   "id": "5bb07727",
   "metadata": {},
   "outputs": [],
   "source": [
    "#Do the prediction and check performance metrics\n",
    "train_predict = model.predict(X_train)\n",
    "test_predict = model.predict(X_test)"
   ]
  },
  {
   "cell_type": "code",
   "execution_count": 21,
   "id": "cd8d11e2",
   "metadata": {},
   "outputs": [],
   "source": [
    "#Transformback to original form\n",
    "train_predict = scaler.inverse_transform(train_predict)\n",
    "test_predict = scaler.inverse_transform(test_predict)"
   ]
  },
  {
   "cell_type": "code",
   "execution_count": 22,
   "id": "4a8f33f4",
   "metadata": {},
   "outputs": [
    {
     "data": {
      "text/plain": [
       "129944.13508354517"
      ]
     },
     "execution_count": 22,
     "metadata": {},
     "output_type": "execute_result"
    }
   ],
   "source": [
    "#Calculate RSME perfomance metrics\n",
    "import math\n",
    "from sklearn.metrics import mean_squared_error\n",
    "math.sqrt(mean_squared_error(y_train, train_predict))"
   ]
  },
  {
   "cell_type": "code",
   "execution_count": 23,
   "id": "a1904b1a",
   "metadata": {},
   "outputs": [
    {
     "data": {
      "text/plain": [
       "66034.54099444918"
      ]
     },
     "execution_count": 23,
     "metadata": {},
     "output_type": "execute_result"
    }
   ],
   "source": [
    "#Test data RSME\n",
    "math.sqrt(mean_squared_error(ytest, test_predict))"
   ]
  },
  {
   "cell_type": "code",
   "execution_count": 24,
   "id": "fc00a958",
   "metadata": {},
   "outputs": [
    {
     "data": {
      "image/png": "[encoded data removed]",
      "text/plain": [
       "<Figure size 720x432 with 1 Axes>"
      ]
     },
     "metadata": {
      "needs_background": "light"
     },
     "output_type": "display_data"
    }
   ],
   "source": [
    "###Plotting\n",
    "#Shift train prediction for plotting\n",
    "look_back = 5\n",
    "trainPredictPlot = numpy.empty_like(df1)\n",
    "trainPredictPlot[:, :] = np.nan\n",
    "trainPredictPlot[look_back: len(train_predict)+look_back, :] = train_predict\n",
    "#Shift test prediction for plotting\n",
    "testPredictPlot = numpy.empty_like(df1)\n",
    "testPredictPlot[:, :] = numpy.nan\n",
    "testPredictPlot[len(train_predict)+(look_back*2)+1:len(df1)-1, :] = test_predict\n",
    "#Plot baseline and predictions\n",
    "plt.xlabel('Days')\n",
    "plt.ylabel('Sales')\n",
    "plt.plot(scaler.inverse_transform(df1), label='Original Data')\n",
    "plt.plot(trainPredictPlot, label='Train Data')\n",
    "plt.plot(testPredictPlot, label='Test Data')\n",
    "plt.legend(loc='best')\n",
    "plt.show()"
   ]
  },
  {
   "cell_type": "code",
   "execution_count": 25,
   "id": "dc15df56",
   "metadata": {},
   "outputs": [
    {
     "data": {
      "text/plain": [
       "28"
      ]
     },
     "execution_count": 25,
     "metadata": {},
     "output_type": "execute_result"
    }
   ],
   "source": [
    "len(test_data)"
   ]
  },
  {
   "cell_type": "code",
   "execution_count": 26,
   "id": "380aa5d1",
   "metadata": {},
   "outputs": [
    {
     "data": {
      "text/plain": [
       "(1, 5)"
      ]
     },
     "execution_count": 26,
     "metadata": {},
     "output_type": "execute_result"
    }
   ],
   "source": [
    "x_input = test_data[23:].reshape(1,-1)\n",
    "x_input.shape"
   ]
  },
  {
   "cell_type": "code",
   "execution_count": 27,
   "id": "19705521",
   "metadata": {},
   "outputs": [
    {
     "data": {
      "text/plain": [
       "[0.25, 0.25, 0.3, 0.3, 0.4]"
      ]
     },
     "execution_count": 27,
     "metadata": {},
     "output_type": "execute_result"
    }
   ],
   "source": [
    "temp_input=list(x_input)\n",
    "temp_input=temp_input[0].tolist()\n",
    "temp_input"
   ]
  },
  {
   "cell_type": "code",
   "execution_count": 28,
   "id": "b8756283",
   "metadata": {},
   "outputs": [
    {
     "name": "stdout",
     "output_type": "stream",
     "text": [
      "[0.40253454]\n",
      "6\n",
      "1 day input [0.25       0.3        0.3        0.4        0.40253454]\n",
      "1 day output [[0.38627797]]\n",
      "2 day input [0.3        0.3        0.4        0.40253454 0.38627797]\n",
      "2 day output [[0.35070032]]\n",
      "3 day input [0.3        0.4        0.40253454 0.38627797 0.35070032]\n",
      "3 day output [[0.32355565]]\n",
      "4 day input [0.4        0.40253454 0.38627797 0.35070032 0.32355565]\n",
      "4 day output [[0.32348827]]\n",
      "5 day input [0.40253454 0.38627797 0.35070032 0.32355565 0.32348827]\n",
      "5 day output [[0.3391942]]\n",
      "6 day input [0.38627797 0.35070032 0.32355565 0.32348827 0.33919421]\n",
      "6 day output [[0.35827583]]\n",
      "7 day input [0.35070032 0.32355565 0.32348827 0.33919421 0.35827583]\n",
      "7 day output [[0.36676434]]\n",
      "8 day input [0.32355565 0.32348827 0.33919421 0.35827583 0.36676434]\n",
      "8 day output [[0.36234355]]\n",
      "9 day input [0.32348827 0.33919421 0.35827583 0.36676434 0.36234355]\n",
      "9 day output [[0.3516412]]\n",
      "10 day input [0.33919421 0.35827583 0.36676434 0.36234355 0.35164121]\n",
      "10 day output [[0.34304026]]\n",
      "11 day input [0.35827583 0.36676434 0.36234355 0.35164121 0.34304026]\n",
      "11 day output [[0.3414137]]\n",
      "12 day input [0.36676434 0.36234355 0.35164121 0.34304026 0.34141371]\n",
      "12 day output [[0.34576604]]\n",
      "13 day input [0.36234355 0.35164121 0.34304026 0.34141371 0.34576604]\n",
      "13 day output [[0.35163713]]\n",
      "14 day input [0.35164121 0.34304026 0.34141371 0.34576604 0.35163713]\n",
      "14 day output [[0.35485816]]\n",
      "15 day input [0.34304026 0.34141371 0.34576604 0.35163713 0.35485816]\n",
      "15 day output [[0.35412762]]\n",
      "16 day input [0.34141371 0.34576604 0.35163713 0.35485816 0.35412762]\n",
      "16 day output [[0.35103452]]\n",
      "17 day input [0.34576604 0.35163713 0.35485816 0.35412762 0.35103452]\n",
      "17 day output [[0.34820184]]\n",
      "18 day input [0.35163713 0.35485816 0.35412762 0.35103452 0.34820184]\n",
      "18 day output [[0.3473406]]\n",
      "19 day input [0.35485816 0.35412762 0.35103452 0.34820184 0.34734061]\n",
      "19 day output [[0.3484307]]\n",
      "[[0.402534544467926], [0.386277973651886], [0.350700318813324], [0.3235556483268738], [0.3234882652759552], [0.3391942083835602], [0.358275830745697], [0.3667643368244171], [0.36234354972839355], [0.3516412079334259], [0.34304025769233704], [0.3414137065410614], [0.3457660377025604], [0.3516371250152588], [0.3548581600189209], [0.3541276156902313], [0.3510345220565796], [0.34820184111595154], [0.3473406136035919], [0.34843069314956665]]\n"
     ]
    }
   ],
   "source": [
    "#Demonstrate prediction next 10 days\n",
    "from numpy import array\n",
    "lst_output = []\n",
    "n_steps = 5\n",
    "i = 0\n",
    "while(i<20):\n",
    "    if (len(temp_input)>5):\n",
    "        #print temp_input\n",
    "        x_input=np.array(temp_input[1:])\n",
    "        print(\"{} day input {}\".format(i,x_input))\n",
    "        x_input=x_input.reshape(1,-1)\n",
    "        x_input=x_input.reshape((1, n_steps, 1))\n",
    "        #print x_input\n",
    "        yhat = model.predict(x_input, verbose=0)\n",
    "        print(\"{} day output {}\".format(i,yhat))\n",
    "        temp_input.extend(yhat[0].tolist())\n",
    "        temp_input=temp_input[1:]\n",
    "        #print temp_input\n",
    "        lst_output.extend(yhat.tolist())\n",
    "        i=i+1\n",
    "    else:\n",
    "        x_input = x_input.reshape((1, n_steps, 1))\n",
    "        yhat = model.predict(x_input, verbose=0)\n",
    "        print(yhat[0])\n",
    "        temp_input.extend(yhat[0].tolist())\n",
    "        print(len(temp_input))\n",
    "        lst_output.extend(yhat.tolist())\n",
    "        i=i+1\n",
    "\n",
    "print(lst_output)"
   ]
  },
  {
   "cell_type": "code",
   "execution_count": 29,
   "id": "1a8846ed",
   "metadata": {},
   "outputs": [],
   "source": [
    "day_new = np.arange(1,6)\n",
    "day_pred = np.arange(6,26)"
   ]
  },
  {
   "cell_type": "code",
   "execution_count": 30,
   "id": "0ac6e3e6",
   "metadata": {},
   "outputs": [],
   "source": [
    "import matplotlib.pyplot as plt"
   ]
  },
  {
   "cell_type": "code",
   "execution_count": 31,
   "id": "5bbb742e",
   "metadata": {},
   "outputs": [
    {
     "data": {
      "text/plain": [
       "92"
      ]
     },
     "execution_count": 31,
     "metadata": {},
     "output_type": "execute_result"
    }
   ],
   "source": [
    "len(df1)"
   ]
  },
  {
   "cell_type": "code",
   "execution_count": 32,
   "id": "cfb21bbe",
   "metadata": {},
   "outputs": [],
   "source": [
    "# df3=df1.tolist()\n",
    "# df3.extend(lst_output)"
   ]
  },
  {
   "cell_type": "code",
   "execution_count": 33,
   "id": "5361d8ab",
   "metadata": {},
   "outputs": [
    {
     "data": {
      "text/plain": [
       "[<matplotlib.lines.Line2D at 0x1af6dabe580>]"
      ]
     },
     "execution_count": 33,
     "metadata": {},
     "output_type": "execute_result"
    },
    {
     "data": {
      "image/png": "[encoded data removed]",
      "text/plain": [
       "<Figure size 720x432 with 1 Axes>"
      ]
     },
     "metadata": {
      "needs_background": "light"
     },
     "output_type": "display_data"
    }
   ],
   "source": [
    "plt.plot(day_new, scaler.inverse_transform(df1[87:]))\n",
    "plt.plot(day_pred, scaler.inverse_transform(lst_output))"
   ]
  },
  {
   "cell_type": "code",
   "execution_count": 34,
   "id": "1e0e6e72",
   "metadata": {},
   "outputs": [
    {
     "data": {
      "text/plain": [
       "[<matplotlib.lines.Line2D at 0x1af6dbbc700>]"
      ]
     },
     "execution_count": 34,
     "metadata": {},
     "output_type": "execute_result"
    },
    {
     "data": {
      "image/png": "[encoded data removed]",
      "text/plain": [
       "<Figure size 720x432 with 1 Axes>"
      ]
     },
     "metadata": {
      "needs_background": "light"
     },
     "output_type": "display_data"
    }
   ],
   "source": [
    "df3=df1.tolist()\n",
    "df3.extend(lst_output)\n",
    "plt.plot(df3[30:])"
   ]
  }
 ],
 "metadata": {
  "kernelspec": {
   "display_name": "Python 3 (ipykernel)",
   "language": "python",
   "name": "python3"
  },
  "language_info": {
   "codemirror_mode": {
    "name": "ipython",
    "version": 3
   },
   "file_extension": ".py",
   "mimetype": "text/x-python",
   "name": "python",
   "nbconvert_exporter": "python",
   "pygments_lexer": "ipython3",
   "version": "3.8.5"
  }
 },
 "nbformat": 4,
 "nbformat_minor": 5
}
