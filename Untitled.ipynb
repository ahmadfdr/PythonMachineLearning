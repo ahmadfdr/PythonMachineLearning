{
 "cells": [
  {
   "cell_type": "code",
   "execution_count": 1,
   "id": "329463b4",
   "metadata": {},
   "outputs": [],
   "source": [
    "import pandas as pd\n",
    "from matplotlib.pylab import rcParams\n",
    "rcParams['figure.figsize'] = 10,6"
   ]
  },
  {
   "cell_type": "code",
   "execution_count": 2,
   "id": "01ce2498",
   "metadata": {},
   "outputs": [
    {
     "data": {
      "text/html": [
       "<div>\n",
       "<style scoped>\n",
       "    .dataframe tbody tr th:only-of-type {\n",
       "        vertical-align: middle;\n",
       "    }\n",
       "\n",
       "    .dataframe tbody tr th {\n",
       "        vertical-align: top;\n",
       "    }\n",
       "\n",
       "    .dataframe thead th {\n",
       "        text-align: right;\n",
       "    }\n",
       "</style>\n",
       "<table border=\"1\" class=\"dataframe\">\n",
       "  <thead>\n",
       "    <tr style=\"text-align: right;\">\n",
       "      <th></th>\n",
       "      <th>Tanggal</th>\n",
       "      <th>Jumlah Cup yang Terjual</th>\n",
       "      <th>Penjualan Kopi Susu</th>\n",
       "    </tr>\n",
       "  </thead>\n",
       "  <tbody>\n",
       "    <tr>\n",
       "      <th>0</th>\n",
       "      <td>2021-05-01</td>\n",
       "      <td>8</td>\n",
       "      <td>120000</td>\n",
       "    </tr>\n",
       "    <tr>\n",
       "      <th>1</th>\n",
       "      <td>2021-05-02</td>\n",
       "      <td>7</td>\n",
       "      <td>105000</td>\n",
       "    </tr>\n",
       "    <tr>\n",
       "      <th>2</th>\n",
       "      <td>2021-05-03</td>\n",
       "      <td>5</td>\n",
       "      <td>75000</td>\n",
       "    </tr>\n",
       "    <tr>\n",
       "      <th>3</th>\n",
       "      <td>2021-05-04</td>\n",
       "      <td>5</td>\n",
       "      <td>75000</td>\n",
       "    </tr>\n",
       "    <tr>\n",
       "      <th>4</th>\n",
       "      <td>2021-05-05</td>\n",
       "      <td>4</td>\n",
       "      <td>60000</td>\n",
       "    </tr>\n",
       "    <tr>\n",
       "      <th>...</th>\n",
       "      <td>...</td>\n",
       "      <td>...</td>\n",
       "      <td>...</td>\n",
       "    </tr>\n",
       "    <tr>\n",
       "      <th>87</th>\n",
       "      <td>2021-07-27</td>\n",
       "      <td>5</td>\n",
       "      <td>75000</td>\n",
       "    </tr>\n",
       "    <tr>\n",
       "      <th>88</th>\n",
       "      <td>2021-07-28</td>\n",
       "      <td>5</td>\n",
       "      <td>75000</td>\n",
       "    </tr>\n",
       "    <tr>\n",
       "      <th>89</th>\n",
       "      <td>2021-07-29</td>\n",
       "      <td>6</td>\n",
       "      <td>90000</td>\n",
       "    </tr>\n",
       "    <tr>\n",
       "      <th>90</th>\n",
       "      <td>2021-07-30</td>\n",
       "      <td>6</td>\n",
       "      <td>90000</td>\n",
       "    </tr>\n",
       "    <tr>\n",
       "      <th>91</th>\n",
       "      <td>2021-07-31</td>\n",
       "      <td>8</td>\n",
       "      <td>120000</td>\n",
       "    </tr>\n",
       "  </tbody>\n",
       "</table>\n",
       "<p>92 rows × 3 columns</p>\n",
       "</div>"
      ],
      "text/plain": [
       "      Tanggal  Jumlah Cup yang Terjual  Penjualan Kopi Susu\n",
       "0  2021-05-01                        8               120000\n",
       "1  2021-05-02                        7               105000\n",
       "2  2021-05-03                        5                75000\n",
       "3  2021-05-04                        5                75000\n",
       "4  2021-05-05                        4                60000\n",
       "..        ...                      ...                  ...\n",
       "87 2021-07-27                        5                75000\n",
       "88 2021-07-28                        5                75000\n",
       "89 2021-07-29                        6                90000\n",
       "90 2021-07-30                        6                90000\n",
       "91 2021-07-31                        8               120000\n",
       "\n",
       "[92 rows x 3 columns]"
      ]
     },
     "execution_count": 2,
     "metadata": {},
     "output_type": "execute_result"
    }
   ],
   "source": [
    "df = pd.read_excel('TKTK.xlsx', sheet_name='KOPI SUSU')\n",
    "df"
   ]
  },
  {
   "cell_type": "code",
   "execution_count": 3,
   "id": "28568540",
   "metadata": {},
   "outputs": [
    {
     "data": {
      "text/plain": [
       "(92, 3)"
      ]
     },
     "execution_count": 3,
     "metadata": {},
     "output_type": "execute_result"
    }
   ],
   "source": [
    "df.shape"
   ]
  },
  {
   "cell_type": "code",
   "execution_count": 4,
   "id": "8b6226d5",
   "metadata": {},
   "outputs": [
    {
     "data": {
      "text/plain": [
       "0     120000\n",
       "1     105000\n",
       "2      75000\n",
       "3      75000\n",
       "4      60000\n",
       "       ...  \n",
       "87     75000\n",
       "88     75000\n",
       "89     90000\n",
       "90     90000\n",
       "91    120000\n",
       "Name: Penjualan Kopi Susu, Length: 92, dtype: int64"
      ]
     },
     "execution_count": 4,
     "metadata": {},
     "output_type": "execute_result"
    }
   ],
   "source": [
    "df1 = df.reset_index()['Penjualan Kopi Susu']\n",
    "df1"
   ]
  },
  {
   "cell_type": "code",
   "execution_count": 5,
   "id": "d23ad258",
   "metadata": {},
   "outputs": [
    {
     "data": {
      "text/plain": [
       "[<matplotlib.lines.Line2D at 0x2097f655d90>]"
      ]
     },
     "execution_count": 5,
     "metadata": {},
     "output_type": "execute_result"
    },
    {
     "data": {
      "image/png": "[encoded data removed]",
      "text/plain": [
       "<Figure size 720x432 with 1 Axes>"
      ]
     },
     "metadata": {
      "needs_background": "light"
     },
     "output_type": "display_data"
    }
   ],
   "source": [
    "import matplotlib.pyplot as plt\n",
    "plt.plot(df1)"
   ]
  },
  {
   "cell_type": "code",
   "execution_count": 6,
   "id": "e8c51f7e",
   "metadata": {},
   "outputs": [],
   "source": [
    "#LSTM is sensitive to the scale of the data, so we apply MinMax Scaler\n",
    "import numpy as np\n",
    "from sklearn.preprocessing import MinMaxScaler"
   ]
  },
  {
   "cell_type": "code",
   "execution_count": 7,
   "id": "cf73254c",
   "metadata": {},
   "outputs": [
    {
     "name": "stdout",
     "output_type": "stream",
     "text": [
      "[[0.4 ]\n",
      " [0.35]\n",
      " [0.25]\n",
      " [0.25]\n",
      " [0.2 ]\n",
      " [0.15]\n",
      " [0.25]\n",
      " [0.3 ]\n",
      " [0.35]\n",
      " [0.3 ]\n",
      " [0.25]\n",
      " [0.2 ]\n",
      " [0.1 ]\n",
      " [0.3 ]\n",
      " [0.3 ]\n",
      " [0.45]\n",
      " [0.25]\n",
      " [0.2 ]\n",
      " [0.1 ]\n",
      " [0.25]\n",
      " [0.4 ]\n",
      " [0.5 ]\n",
      " [0.5 ]\n",
      " [0.3 ]\n",
      " [0.35]\n",
      " [0.25]\n",
      " [0.2 ]\n",
      " [0.3 ]\n",
      " [0.55]\n",
      " [0.45]\n",
      " [0.3 ]\n",
      " [0.2 ]\n",
      " [0.15]\n",
      " [0.25]\n",
      " [0.35]\n",
      " [0.5 ]\n",
      " [0.4 ]\n",
      " [0.35]\n",
      " [0.35]\n",
      " [0.55]\n",
      " [0.6 ]\n",
      " [0.75]\n",
      " [0.85]\n",
      " [1.  ]\n",
      " [0.85]\n",
      " [0.7 ]\n",
      " [0.65]\n",
      " [0.55]\n",
      " [0.6 ]\n",
      " [0.65]\n",
      " [0.45]\n",
      " [0.4 ]\n",
      " [0.35]\n",
      " [0.35]\n",
      " [0.4 ]\n",
      " [0.5 ]\n",
      " [0.65]\n",
      " [0.55]\n",
      " [0.4 ]\n",
      " [0.25]\n",
      " [0.15]\n",
      " [0.25]\n",
      " [0.45]\n",
      " [0.4 ]\n",
      " [0.25]\n",
      " [0.2 ]\n",
      " [0.15]\n",
      " [0.1 ]\n",
      " [0.1 ]\n",
      " [0.15]\n",
      " [0.2 ]\n",
      " [0.1 ]\n",
      " [0.05]\n",
      " [0.  ]\n",
      " [0.1 ]\n",
      " [0.1 ]\n",
      " [0.15]\n",
      " [0.2 ]\n",
      " [0.15]\n",
      " [0.05]\n",
      " [0.  ]\n",
      " [0.1 ]\n",
      " [0.05]\n",
      " [0.15]\n",
      " [0.2 ]\n",
      " [0.25]\n",
      " [0.2 ]\n",
      " [0.25]\n",
      " [0.25]\n",
      " [0.3 ]\n",
      " [0.3 ]\n",
      " [0.4 ]]\n"
     ]
    }
   ],
   "source": [
    "scaler = MinMaxScaler(feature_range = (0,1))\n",
    "df1 = scaler.fit_transform(np.array(df1).reshape(-1,1))\n",
    "print(df1)"
   ]
  },
  {
   "cell_type": "code",
   "execution_count": 8,
   "id": "62fe3346",
   "metadata": {},
   "outputs": [
    {
     "data": {
      "text/plain": [
       "(64, 28)"
      ]
     },
     "execution_count": 8,
     "metadata": {},
     "output_type": "execute_result"
    }
   ],
   "source": [
    "#Splitting the data into train and test split\n",
    "training_size = int(len(df1)*0.70)\n",
    "test_size = len(df)-training_size\n",
    "train_data, test_data = df1[0:training_size,:], df1[training_size:len(df1),:1]\n",
    "training_size, test_size"
   ]
  },
  {
   "cell_type": "code",
   "execution_count": 9,
   "id": "13922473",
   "metadata": {},
   "outputs": [
    {
     "data": {
      "text/plain": [
       "array([[0.4 ],\n",
       "       [0.35],\n",
       "       [0.25],\n",
       "       [0.25],\n",
       "       [0.2 ],\n",
       "       [0.15],\n",
       "       [0.25],\n",
       "       [0.3 ],\n",
       "       [0.35],\n",
       "       [0.3 ],\n",
       "       [0.25],\n",
       "       [0.2 ],\n",
       "       [0.1 ],\n",
       "       [0.3 ],\n",
       "       [0.3 ],\n",
       "       [0.45],\n",
       "       [0.25],\n",
       "       [0.2 ],\n",
       "       [0.1 ],\n",
       "       [0.25],\n",
       "       [0.4 ],\n",
       "       [0.5 ],\n",
       "       [0.5 ],\n",
       "       [0.3 ],\n",
       "       [0.35],\n",
       "       [0.25],\n",
       "       [0.2 ],\n",
       "       [0.3 ],\n",
       "       [0.55],\n",
       "       [0.45],\n",
       "       [0.3 ],\n",
       "       [0.2 ],\n",
       "       [0.15],\n",
       "       [0.25],\n",
       "       [0.35],\n",
       "       [0.5 ],\n",
       "       [0.4 ],\n",
       "       [0.35],\n",
       "       [0.35],\n",
       "       [0.55],\n",
       "       [0.6 ],\n",
       "       [0.75],\n",
       "       [0.85],\n",
       "       [1.  ],\n",
       "       [0.85],\n",
       "       [0.7 ],\n",
       "       [0.65],\n",
       "       [0.55],\n",
       "       [0.6 ],\n",
       "       [0.65],\n",
       "       [0.45],\n",
       "       [0.4 ],\n",
       "       [0.35],\n",
       "       [0.35],\n",
       "       [0.4 ],\n",
       "       [0.5 ],\n",
       "       [0.65],\n",
       "       [0.55],\n",
       "       [0.4 ],\n",
       "       [0.25],\n",
       "       [0.15],\n",
       "       [0.25],\n",
       "       [0.45],\n",
       "       [0.4 ]])"
      ]
     },
     "execution_count": 9,
     "metadata": {},
     "output_type": "execute_result"
    }
   ],
   "source": [
    "train_data"
   ]
  },
  {
   "cell_type": "code",
   "execution_count": 10,
   "id": "10ad7431",
   "metadata": {},
   "outputs": [],
   "source": [
    "import numpy\n",
    "#Convert an array of values into a dataset matrix\n",
    "def create_dataset(dataset, time_step=1):\n",
    "    dataX, dataY = [], []\n",
    "    for i in range (len(dataset)-time_step-1):\n",
    "        a = dataset[i:(i+time_step), 0]   #i=0, 0,1,2,3----9   10\n",
    "        dataX.append(a)\n",
    "        dataY.append(dataset[i + time_step, 0])\n",
    "    return numpy.array(dataX), numpy.array(dataY)"
   ]
  },
  {
   "cell_type": "code",
   "execution_count": 11,
   "id": "d55cd3a8",
   "metadata": {},
   "outputs": [],
   "source": [
    "#Reshape into X=t, t+1, t+2, t+3, and Y=t+4\n",
    "time_step = 10\n",
    "X_train, y_train = create_dataset(train_data, time_step)\n",
    "X_test, ytest = create_dataset(test_data, time_step)"
   ]
  },
  {
   "cell_type": "code",
   "execution_count": 12,
   "id": "6e74c51a",
   "metadata": {},
   "outputs": [
    {
     "name": "stdout",
     "output_type": "stream",
     "text": [
      "(53, 10)\n",
      "(53,)\n"
     ]
    },
    {
     "data": {
      "text/plain": [
       "(None, None)"
      ]
     },
     "execution_count": 12,
     "metadata": {},
     "output_type": "execute_result"
    }
   ],
   "source": [
    "print(X_train.shape), print(y_train.shape)"
   ]
  },
  {
   "cell_type": "code",
   "execution_count": 13,
   "id": "8c066bf0",
   "metadata": {},
   "outputs": [
    {
     "name": "stdout",
     "output_type": "stream",
     "text": [
      "(17, 10)\n",
      "(17,)\n"
     ]
    },
    {
     "data": {
      "text/plain": [
       "(None, None)"
      ]
     },
     "execution_count": 13,
     "metadata": {},
     "output_type": "execute_result"
    }
   ],
   "source": [
    "print(X_test.shape), print(ytest.shape)"
   ]
  },
  {
   "cell_type": "code",
   "execution_count": 14,
   "id": "7ca792a7",
   "metadata": {},
   "outputs": [],
   "source": [
    "#Reshape input to be [samples, time_steps, features] which is required for LSTM\n",
    "X_train = X_train.reshape(X_train.shape[0], X_train.shape[1], 1)\n",
    "X_test = X_test.reshape(X_test.shape[0], X_test.shape[1], 1)"
   ]
  },
  {
   "cell_type": "code",
   "execution_count": 15,
   "id": "faa3672e",
   "metadata": {
    "scrolled": true
   },
   "outputs": [],
   "source": [
    "#Create the stacked LSTM Model\n",
    "from tensorflow.keras.models import Sequential\n",
    "from tensorflow.keras.layers import Dense\n",
    "from tensorflow.keras.layers import LSTM"
   ]
  },
  {
   "cell_type": "code",
   "execution_count": 16,
   "id": "a55c8830",
   "metadata": {},
   "outputs": [],
   "source": [
    "model = Sequential()\n",
    "model.add(LSTM(50, return_sequences=True, input_shape=(10,1)))\n",
    "model.add(LSTM(50, return_sequences=True))\n",
    "model.add(LSTM(50))\n",
    "model.add(Dense(1))\n",
    "model.compile(loss='mean_squared_error', optimizer='adam')"
   ]
  },
  {
   "cell_type": "code",
   "execution_count": 17,
   "id": "e7a94310",
   "metadata": {},
   "outputs": [
    {
     "name": "stdout",
     "output_type": "stream",
     "text": [
      "Model: \"sequential\"\n",
      "_________________________________________________________________\n",
      "Layer (type)                 Output Shape              Param #   \n",
      "=================================================================\n",
      "lstm (LSTM)                  (None, 10, 50)            10400     \n",
      "_________________________________________________________________\n",
      "lstm_1 (LSTM)                (None, 10, 50)            20200     \n",
      "_________________________________________________________________\n",
      "lstm_2 (LSTM)                (None, 50)                20200     \n",
      "_________________________________________________________________\n",
      "dense (Dense)                (None, 1)                 51        \n",
      "=================================================================\n",
      "Total params: 50,851\n",
      "Trainable params: 50,851\n",
      "Non-trainable params: 0\n",
      "_________________________________________________________________\n"
     ]
    }
   ],
   "source": [
    "model.summary()"
   ]
  },
  {
   "cell_type": "code",
   "execution_count": 18,
   "id": "ad46f009",
   "metadata": {},
   "outputs": [
    {
     "name": "stdout",
     "output_type": "stream",
     "text": [
      "Epoch 1/50\n",
      "53/53 [==============================] - 9s 47ms/step - loss: 0.0576 - val_loss: 0.0138\n",
      "Epoch 2/50\n",
      "53/53 [==============================] - 1s 12ms/step - loss: 0.0403 - val_loss: 0.0170\n",
      "Epoch 3/50\n",
      "53/53 [==============================] - 1s 12ms/step - loss: 0.0394 - val_loss: 0.0122\n",
      "Epoch 4/50\n",
      "53/53 [==============================] - 1s 14ms/step - loss: 0.0414 - val_loss: 0.0214\n",
      "Epoch 5/50\n",
      "53/53 [==============================] - 1s 16ms/step - loss: 0.0367 - val_loss: 0.0282\n",
      "Epoch 6/50\n",
      "53/53 [==============================] - 1s 16ms/step - loss: 0.0390 - val_loss: 0.0306\n",
      "Epoch 7/50\n",
      "53/53 [==============================] - 1s 16ms/step - loss: 0.0369 - val_loss: 0.0256\n",
      "Epoch 8/50\n",
      "53/53 [==============================] - 1s 16ms/step - loss: 0.0335 - val_loss: 0.0143\n",
      "Epoch 9/50\n",
      "53/53 [==============================] - ETA: 0s - loss: 0.0426- ETA: 0s - loss: - 1s 17ms/step - loss: 0.0420 - val_loss: 0.0310\n",
      "Epoch 10/50\n",
      "53/53 [==============================] - 1s 17ms/step - loss: 0.0340 - val_loss: 0.0274\n",
      "Epoch 11/50\n",
      "53/53 [==============================] - 1s 16ms/step - loss: 0.0352 - val_loss: 0.0337\n",
      "Epoch 12/50\n",
      "53/53 [==============================] - 1s 17ms/step - loss: 0.0337 - val_loss: 0.0272\n",
      "Epoch 13/50\n",
      "53/53 [==============================] - 1s 18ms/step - loss: 0.0307 - val_loss: 0.0265\n",
      "Epoch 14/50\n",
      "53/53 [==============================] - 1s 17ms/step - loss: 0.0311 - val_loss: 0.0230\n",
      "Epoch 15/50\n",
      "53/53 [==============================] - 1s 18ms/step - loss: 0.0291 - val_loss: 0.0122\n",
      "Epoch 16/50\n",
      "53/53 [==============================] - 1s 18ms/step - loss: 0.0334 - val_loss: 0.0139\n",
      "Epoch 17/50\n",
      "53/53 [==============================] - ETA: 0s - loss: 0.028 - 1s 19ms/step - loss: 0.0297 - val_loss: 0.0130\n",
      "Epoch 18/50\n",
      "53/53 [==============================] - 1s 19ms/step - loss: 0.0276 - val_loss: 0.0156\n",
      "Epoch 19/50\n",
      "53/53 [==============================] - 1s 20ms/step - loss: 0.0304 - val_loss: 0.0091\n",
      "Epoch 20/50\n",
      "53/53 [==============================] - 1s 18ms/step - loss: 0.0274 - val_loss: 0.0169\n",
      "Epoch 21/50\n",
      "53/53 [==============================] - 1s 19ms/step - loss: 0.0267 - val_loss: 0.0078\n",
      "Epoch 22/50\n",
      "53/53 [==============================] - 1s 18ms/step - loss: 0.0278 - val_loss: 0.0089\n",
      "Epoch 23/50\n",
      "53/53 [==============================] - 1s 19ms/step - loss: 0.0308 - val_loss: 0.0256\n",
      "Epoch 24/50\n",
      "53/53 [==============================] - 1s 19ms/step - loss: 0.0260 - val_loss: 0.0143\n",
      "Epoch 25/50\n",
      "53/53 [==============================] - 1s 20ms/step - loss: 0.0221 - val_loss: 0.0075\n",
      "Epoch 26/50\n",
      "53/53 [==============================] - 1s 19ms/step - loss: 0.0216 - val_loss: 0.0050\n",
      "Epoch 27/50\n",
      "53/53 [==============================] - 1s 20ms/step - loss: 0.0209 - val_loss: 0.0044\n",
      "Epoch 28/50\n",
      "53/53 [==============================] - 1s 19ms/step - loss: 0.0175 - val_loss: 0.0101\n",
      "Epoch 29/50\n",
      "53/53 [==============================] - 1s 19ms/step - loss: 0.0150 - val_loss: 0.0070\n",
      "Epoch 30/50\n",
      "53/53 [==============================] - 1s 18ms/step - loss: 0.0143 - val_loss: 0.0043A: 0s - loss: 0.0\n",
      "Epoch 31/50\n",
      "53/53 [==============================] - 1s 20ms/step - loss: 0.0145 - val_loss: 0.0054\n",
      "Epoch 32/50\n",
      "53/53 [==============================] - 1s 19ms/step - loss: 0.0136 - val_loss: 0.0110\n",
      "Epoch 33/50\n",
      "53/53 [==============================] - 1s 19ms/step - loss: 0.0121 - val_loss: 0.0034\n",
      "Epoch 34/50\n",
      "53/53 [==============================] - 1s 20ms/step - loss: 0.0111 - val_loss: 0.0042\n",
      "Epoch 35/50\n",
      "53/53 [==============================] - 1s 17ms/step - loss: 0.0102 - val_loss: 0.0029\n",
      "Epoch 36/50\n",
      "53/53 [==============================] - 1s 17ms/step - loss: 0.0106 - val_loss: 0.0046\n",
      "Epoch 37/50\n",
      "53/53 [==============================] - 1s 19ms/step - loss: 0.0114 - val_loss: 0.0055\n",
      "Epoch 38/50\n",
      "53/53 [==============================] - 1s 18ms/step - loss: 0.0105 - val_loss: 0.0043\n",
      "Epoch 39/50\n",
      "53/53 [==============================] - 1s 19ms/step - loss: 0.0118 - val_loss: 0.0039\n",
      "Epoch 40/50\n",
      "53/53 [==============================] - 1s 20ms/step - loss: 0.0098 - val_loss: 0.0050\n",
      "Epoch 41/50\n",
      "53/53 [==============================] - 1s 18ms/step - loss: 0.0100 - val_loss: 0.0037\n",
      "Epoch 42/50\n",
      "53/53 [==============================] - 1s 17ms/step - loss: 0.0116 - val_loss: 0.0047\n",
      "Epoch 43/50\n",
      "53/53 [==============================] - 1s 16ms/step - loss: 0.0100 - val_loss: 0.0047\n",
      "Epoch 44/50\n",
      "53/53 [==============================] - 1s 14ms/step - loss: 0.0092 - val_loss: 0.0033\n",
      "Epoch 45/50\n",
      "53/53 [==============================] - 1s 16ms/step - loss: 0.0089 - val_loss: 0.0048\n",
      "Epoch 46/50\n",
      "53/53 [==============================] - 1s 16ms/step - loss: 0.0107 - val_loss: 0.0050\n",
      "Epoch 47/50\n",
      "53/53 [==============================] - 1s 15ms/step - loss: 0.0095 - val_loss: 0.0041\n",
      "Epoch 48/50\n",
      "53/53 [==============================] - 1s 14ms/step - loss: 0.0088 - val_loss: 0.0037\n",
      "Epoch 49/50\n",
      "53/53 [==============================] - 1s 15ms/step - loss: 0.0105 - val_loss: 0.0053\n",
      "Epoch 50/50\n",
      "53/53 [==============================] - 1s 17ms/step - loss: 0.0101 - val_loss: 0.0038\n"
     ]
    },
    {
     "data": {
      "text/plain": [
       "<keras.callbacks.History at 0x20937d13c70>"
      ]
     },
     "execution_count": 18,
     "metadata": {},
     "output_type": "execute_result"
    }
   ],
   "source": [
    "model.fit(X_train, y_train, validation_data=(X_test, ytest), epochs=50, batch_size=1, verbose=1)"
   ]
  },
  {
   "cell_type": "code",
   "execution_count": 19,
   "id": "9c5fae49",
   "metadata": {},
   "outputs": [],
   "source": [
    "import tensorflow as tf"
   ]
  },
  {
   "cell_type": "code",
   "execution_count": 20,
   "id": "5bb07727",
   "metadata": {},
   "outputs": [],
   "source": [
    "#Do the prediction and check performance metrics\n",
    "train_predict = model.predict(X_train)\n",
    "test_predict = model.predict(X_test)"
   ]
  },
  {
   "cell_type": "code",
   "execution_count": 21,
   "id": "cd8d11e2",
   "metadata": {},
   "outputs": [],
   "source": [
    "#Transformback to original form\n",
    "train_predict = scaler.inverse_transform(train_predict)\n",
    "test_predict = scaler.inverse_transform(test_predict)"
   ]
  },
  {
   "cell_type": "code",
   "execution_count": 22,
   "id": "4a8f33f4",
   "metadata": {},
   "outputs": [
    {
     "data": {
      "text/plain": [
       "145338.53887695045"
      ]
     },
     "execution_count": 22,
     "metadata": {},
     "output_type": "execute_result"
    }
   ],
   "source": [
    "#Calculate RSME perfomance metrics\n",
    "import math\n",
    "from sklearn.metrics import mean_squared_error\n",
    "math.sqrt(mean_squared_error(y_train, train_predict))"
   ]
  },
  {
   "cell_type": "code",
   "execution_count": 23,
   "id": "a1904b1a",
   "metadata": {},
   "outputs": [
    {
     "data": {
      "text/plain": [
       "50868.60079303772"
      ]
     },
     "execution_count": 23,
     "metadata": {},
     "output_type": "execute_result"
    }
   ],
   "source": [
    "#Test data RSME\n",
    "math.sqrt(mean_squared_error(ytest, test_predict))"
   ]
  },
  {
   "cell_type": "code",
   "execution_count": 24,
   "id": "fc00a958",
   "metadata": {},
   "outputs": [
    {
     "data": {
      "image/png": "[encoded data removed]",
      "text/plain": [
       "<Figure size 720x432 with 1 Axes>"
      ]
     },
     "metadata": {
      "needs_background": "light"
     },
     "output_type": "display_data"
    }
   ],
   "source": [
    "###Plotting\n",
    "#Shift train prediction for plotting\n",
    "look_back = 10\n",
    "trainPredictPlot = numpy.empty_like(df1)\n",
    "trainPredictPlot[:, :] = np.nan\n",
    "trainPredictPlot[look_back: len(train_predict)+look_back, :] = train_predict\n",
    "#Shift test prediction for plotting\n",
    "testPredictPlot = numpy.empty_like(df1)\n",
    "testPredictPlot[:, :] = numpy.nan\n",
    "testPredictPlot[len(train_predict)+(look_back*2)+1:len(df1)-1, :] = test_predict\n",
    "#Plot baseline and predictions\n",
    "plt.plot(scaler.inverse_transform(df1))\n",
    "plt.plot(trainPredictPlot, label='Train Data')\n",
    "plt.plot(testPredictPlot, label='Test Data')\n",
    "plt.legend(loc='best')\n",
    "plt.show()"
   ]
  },
  {
   "cell_type": "code",
   "execution_count": 25,
   "id": "dc15df56",
   "metadata": {},
   "outputs": [
    {
     "data": {
      "text/plain": [
       "28"
      ]
     },
     "execution_count": 25,
     "metadata": {},
     "output_type": "execute_result"
    }
   ],
   "source": [
    "len(test_data)"
   ]
  },
  {
   "cell_type": "code",
   "execution_count": 26,
   "id": "380aa5d1",
   "metadata": {},
   "outputs": [
    {
     "data": {
      "text/plain": [
       "(1, 10)"
      ]
     },
     "execution_count": 26,
     "metadata": {},
     "output_type": "execute_result"
    }
   ],
   "source": [
    "x_input = test_data[18:].reshape(1,-1)\n",
    "x_input.shape"
   ]
  },
  {
   "cell_type": "code",
   "execution_count": 27,
   "id": "19705521",
   "metadata": {},
   "outputs": [
    {
     "data": {
      "text/plain": [
       "[0.05, 0.15, 0.2, 0.25, 0.2, 0.25, 0.25, 0.3, 0.3, 0.4]"
      ]
     },
     "execution_count": 27,
     "metadata": {},
     "output_type": "execute_result"
    }
   ],
   "source": [
    "temp_input=list(x_input)\n",
    "temp_input=temp_input[0].tolist()\n",
    "temp_input"
   ]
  },
  {
   "cell_type": "code",
   "execution_count": 28,
   "id": "8dd7940d",
   "metadata": {},
   "outputs": [
    {
     "name": "stdout",
     "output_type": "stream",
     "text": [
      "[0.4336805]\n",
      "11\n",
      "1 day input [0.15      0.2       0.25      0.2       0.25      0.25      0.3\n",
      " 0.3       0.4       0.4336805]\n",
      "1 day output [[0.4523532]]\n",
      "2 day input [0.2        0.25       0.2        0.25       0.25       0.3\n",
      " 0.3        0.4        0.4336805  0.45235321]\n",
      "2 day output [[0.46064094]]\n",
      "3 day input [0.25       0.2        0.25       0.25       0.3        0.3\n",
      " 0.4        0.4336805  0.45235321 0.46064094]\n",
      "3 day output [[0.4794524]]\n",
      "4 day input [0.2        0.25       0.25       0.3        0.3        0.4\n",
      " 0.4336805  0.45235321 0.46064094 0.4794524 ]\n",
      "4 day output [[0.52485573]]\n",
      "5 day input [0.25       0.25       0.3        0.3        0.4        0.4336805\n",
      " 0.45235321 0.46064094 0.4794524  0.52485573]\n",
      "5 day output [[0.5896126]]\n",
      "6 day input [0.25       0.3        0.3        0.4        0.4336805  0.45235321\n",
      " 0.46064094 0.4794524  0.52485573 0.5896126 ]\n",
      "6 day output [[0.6627208]]\n",
      "7 day input [0.3        0.3        0.4        0.4336805  0.45235321 0.46064094\n",
      " 0.4794524  0.52485573 0.5896126  0.6627208 ]\n",
      "7 day output [[0.7180257]]\n",
      "8 day input [0.3        0.4        0.4336805  0.45235321 0.46064094 0.4794524\n",
      " 0.52485573 0.5896126  0.6627208  0.71802568]\n",
      "8 day output [[0.7443136]]\n",
      "9 day input [0.4        0.4336805  0.45235321 0.46064094 0.4794524  0.52485573\n",
      " 0.5896126  0.6627208  0.71802568 0.7443136 ]\n",
      "9 day output [[0.7419927]]\n",
      "10 day input [0.4336805  0.45235321 0.46064094 0.4794524  0.52485573 0.5896126\n",
      " 0.6627208  0.71802568 0.7443136  0.74199271]\n",
      "10 day output [[0.7289566]]\n",
      "11 day input [0.45235321 0.46064094 0.4794524  0.52485573 0.5896126  0.6627208\n",
      " 0.71802568 0.7443136  0.74199271 0.72895658]\n",
      "11 day output [[0.71835816]]\n",
      "12 day input [0.46064094 0.4794524  0.52485573 0.5896126  0.6627208  0.71802568\n",
      " 0.7443136  0.74199271 0.72895658 0.71835816]\n",
      "12 day output [[0.7164755]]\n",
      "13 day input [0.4794524  0.52485573 0.5896126  0.6627208  0.71802568 0.7443136\n",
      " 0.74199271 0.72895658 0.71835816 0.71647549]\n",
      "13 day output [[0.71899664]]\n",
      "14 day input [0.52485573 0.5896126  0.6627208  0.71802568 0.7443136  0.74199271\n",
      " 0.72895658 0.71835816 0.71647549 0.71899664]\n",
      "14 day output [[0.714656]]\n",
      "15 day input [0.5896126  0.6627208  0.71802568 0.7443136  0.74199271 0.72895658\n",
      " 0.71835816 0.71647549 0.71899664 0.714656  ]\n",
      "15 day output [[0.6954458]]\n",
      "16 day input [0.6627208  0.71802568 0.7443136  0.74199271 0.72895658 0.71835816\n",
      " 0.71647549 0.71899664 0.714656   0.69544578]\n",
      "16 day output [[0.6640034]]\n",
      "17 day input [0.71802568 0.7443136  0.74199271 0.72895658 0.71835816 0.71647549\n",
      " 0.71899664 0.714656   0.69544578 0.66400337]\n",
      "17 day output [[0.63154864]]\n",
      "18 day input [0.7443136  0.74199271 0.72895658 0.71835816 0.71647549 0.71899664\n",
      " 0.714656   0.69544578 0.66400337 0.63154864]\n",
      "18 day output [[0.60939586]]\n",
      "19 day input [0.74199271 0.72895658 0.71835816 0.71647549 0.71899664 0.714656\n",
      " 0.69544578 0.66400337 0.63154864 0.60939586]\n",
      "19 day output [[0.60233724]]\n",
      "20 day input [0.72895658 0.71835816 0.71647549 0.71899664 0.714656   0.69544578\n",
      " 0.66400337 0.63154864 0.60939586 0.60233724]\n",
      "20 day output [[0.6060134]]\n",
      "21 day input [0.71835816 0.71647549 0.71899664 0.714656   0.69544578 0.66400337\n",
      " 0.63154864 0.60939586 0.60233724 0.60601342]\n",
      "21 day output [[0.6100389]]\n",
      "22 day input [0.71647549 0.71899664 0.714656   0.69544578 0.66400337 0.63154864\n",
      " 0.60939586 0.60233724 0.60601342 0.61003888]\n",
      "22 day output [[0.60589993]]\n",
      "23 day input [0.71899664 0.714656   0.69544578 0.66400337 0.63154864 0.60939586\n",
      " 0.60233724 0.60601342 0.61003888 0.60589993]\n",
      "23 day output [[0.5936409]]\n",
      "24 day input [0.714656   0.69544578 0.66400337 0.63154864 0.60939586 0.60233724\n",
      " 0.60601342 0.61003888 0.60589993 0.59364092]\n",
      "24 day output [[0.5808127]]\n",
      "25 day input [0.69544578 0.66400337 0.63154864 0.60939586 0.60233724 0.60601342\n",
      " 0.61003888 0.60589993 0.59364092 0.58081269]\n",
      "25 day output [[0.57596993]]\n",
      "26 day input [0.66400337 0.63154864 0.60939586 0.60233724 0.60601342 0.61003888\n",
      " 0.60589993 0.59364092 0.58081269 0.57596993]\n",
      "26 day output [[0.58281386]]\n",
      "27 day input [0.63154864 0.60939586 0.60233724 0.60601342 0.61003888 0.60589993\n",
      " 0.59364092 0.58081269 0.57596993 0.58281386]\n",
      "27 day output [[0.5977572]]\n",
      "28 day input [0.60939586 0.60233724 0.60601342 0.61003888 0.60589993 0.59364092\n",
      " 0.58081269 0.57596993 0.58281386 0.59775722]\n",
      "28 day output [[0.6120658]]\n",
      "29 day input [0.60233724 0.60601342 0.61003888 0.60589993 0.59364092 0.58081269\n",
      " 0.57596993 0.58281386 0.59775722 0.61206579]\n",
      "29 day output [[0.61821425]]\n",
      "[[0.4336805045604706], [0.45235320925712585], [0.46064093708992004], [0.4794524013996124], [0.5248557329177856], [0.589612603187561], [0.662720799446106], [0.7180256843566895], [0.7443135976791382], [0.741992712020874], [0.7289565801620483], [0.7183581590652466], [0.7164754867553711], [0.7189966440200806], [0.7146559953689575], [0.6954457759857178], [0.6640033721923828], [0.6315486431121826], [0.6093958616256714], [0.6023372411727905], [0.6060134172439575], [0.6100388765335083], [0.6058999300003052], [0.593640923500061], [0.5808126926422119], [0.575969934463501], [0.5828138589859009], [0.5977572202682495], [0.6120657920837402], [0.6182142496109009]]\n"
     ]
    }
   ],
   "source": [
    "#Demonstrate prediction next 10 days\n",
    "from numpy import array\n",
    "lst_output = []\n",
    "n_steps = 10\n",
    "i = 0\n",
    "while(i<30):\n",
    "    if (len(temp_input)>10):\n",
    "        #print temp_input\n",
    "        x_input=np.array(temp_input[1:])\n",
    "        print(\"{} day input {}\".format(i,x_input))\n",
    "        x_input=x_input.reshape(1,-1)\n",
    "        x_input=x_input.reshape((1, n_steps, 1))\n",
    "        #print x_input\n",
    "        yhat = model.predict(x_input, verbose=0)\n",
    "        print(\"{} day output {}\".format(i,yhat))\n",
    "        temp_input.extend(yhat[0].tolist())\n",
    "        temp_input=temp_input[1:]\n",
    "        #print temp_input\n",
    "        lst_output.extend(yhat.tolist())\n",
    "        i=i+1\n",
    "    else:\n",
    "        x_input = x_input.reshape((1, n_steps, 1))\n",
    "        yhat = model.predict(x_input, verbose=0)\n",
    "        print(yhat[0])\n",
    "        temp_input.extend(yhat[0].tolist())\n",
    "        print(len(temp_input))\n",
    "        lst_output.extend(yhat.tolist())\n",
    "        i=i+1\n",
    "\n",
    "print(lst_output)"
   ]
  },
  {
   "cell_type": "code",
   "execution_count": 29,
   "id": "1a8846ed",
   "metadata": {},
   "outputs": [],
   "source": [
    "day_new = np.arange(1,11)\n",
    "day_pred = np.arange(11,41)"
   ]
  },
  {
   "cell_type": "code",
   "execution_count": 30,
   "id": "0ac6e3e6",
   "metadata": {},
   "outputs": [],
   "source": [
    "import matplotlib.pyplot as plt"
   ]
  },
  {
   "cell_type": "code",
   "execution_count": 31,
   "id": "5bbb742e",
   "metadata": {},
   "outputs": [
    {
     "data": {
      "text/plain": [
       "92"
      ]
     },
     "execution_count": 31,
     "metadata": {},
     "output_type": "execute_result"
    }
   ],
   "source": [
    "len(df1)"
   ]
  },
  {
   "cell_type": "code",
   "execution_count": 32,
   "id": "cfb21bbe",
   "metadata": {},
   "outputs": [],
   "source": [
    "# df3=df1.tolist()\n",
    "# df3.extend(lst_output)"
   ]
  },
  {
   "cell_type": "code",
   "execution_count": 33,
   "id": "b9ce6536",
   "metadata": {},
   "outputs": [
    {
     "data": {
      "text/plain": [
       "[<matplotlib.lines.Line2D at 0x209409b4a30>]"
      ]
     },
     "execution_count": 33,
     "metadata": {},
     "output_type": "execute_result"
    },
    {
     "data": {
      "image/png": "[encoded data removed]",
      "text/plain": [
       "<Figure size 720x432 with 1 Axes>"
      ]
     },
     "metadata": {
      "needs_background": "light"
     },
     "output_type": "display_data"
    }
   ],
   "source": [
    "plt.plot(day_new, scaler.inverse_transform(df1[82:]))\n",
    "plt.plot(day_pred, scaler.inverse_transform(lst_output))"
   ]
  },
  {
   "cell_type": "code",
   "execution_count": 34,
   "id": "1e0e6e72",
   "metadata": {},
   "outputs": [
    {
     "data": {
      "text/plain": [
       "[<matplotlib.lines.Line2D at 0x209408e65b0>]"
      ]
     },
     "execution_count": 34,
     "metadata": {},
     "output_type": "execute_result"
    },
    {
     "data": {
      "image/png": "[encoded data removed]",
      "text/plain": [
       "<Figure size 720x432 with 1 Axes>"
      ]
     },
     "metadata": {
      "needs_background": "light"
     },
     "output_type": "display_data"
    }
   ],
   "source": [
    "df3=df1.tolist()\n",
    "df3.extend(lst_output)\n",
    "plt.plot(df3[30:])"
   ]
  }
 ],
 "metadata": {
  "kernelspec": {
   "display_name": "Python 3 (ipykernel)",
   "language": "python",
   "name": "python3"
  },
  "language_info": {
   "codemirror_mode": {
    "name": "ipython",
    "version": 3
   },
   "file_extension": ".py",
   "mimetype": "text/x-python",
   "name": "python",
   "nbconvert_exporter": "python",
   "pygments_lexer": "ipython3",
   "version": "3.8.5"
  }
 },
 "nbformat": 4,
 "nbformat_minor": 5
}
